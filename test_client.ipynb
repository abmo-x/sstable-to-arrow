{
 "metadata": {
  "language_info": {
   "codemirror_mode": {
    "name": "ipython",
    "version": 3
   },
   "file_extension": ".py",
   "mimetype": "text/x-python",
   "name": "python",
   "nbconvert_exporter": "python",
   "pygments_lexer": "ipython3",
   "version": "3.9.4"
  },
  "orig_nbformat": 4,
  "kernelspec": {
   "name": "python3",
   "display_name": "Python 3.9.4 64-bit ('arrow_sstable': conda)"
  },
  "interpreter": {
   "hash": "11e14a7450b1aa7dac7c67def91465b11df4befdfc2edcec9501702ae1b0749a"
  }
 },
 "nbformat": 4,
 "nbformat_minor": 2,
 "cells": [
  {
   "cell_type": "code",
   "execution_count": 1,
   "metadata": {},
   "outputs": [],
   "source": [
    "import socket\n",
    "import pyarrow as pa\n",
    "\n",
    "HOST = '127.0.0.1'\n",
    "PORT = 9143"
   ]
  },
  {
   "cell_type": "code",
   "execution_count": 2,
   "metadata": {},
   "outputs": [],
   "source": [
    "# read data from socket\n",
    "def fetch_data():\n",
    "    with socket.socket(socket.AF_INET, socket.SOCK_STREAM) as s:\n",
    "        s.connect((HOST, PORT))\n",
    "        s.sendall(b'hello world\\n')\n",
    "        data = b''\n",
    "        while True:\n",
    "            newdata = s.recv(1024)\n",
    "            if not newdata:\n",
    "                break\n",
    "            data += newdata\n",
    "    return data"
   ]
  },
  {
   "cell_type": "code",
   "execution_count": 3,
   "metadata": {},
   "outputs": [
    {
     "output_type": "execute_result",
     "data": {
      "text/plain": [
       "pyarrow.Table\n",
       "partition key: float\n",
       "sepal_width: float\n",
       "target: int32"
      ]
     },
     "metadata": {},
     "execution_count": 3
    }
   ],
   "source": [
    "%time buffer = fetch_data()"
   ]
  },
  {
   "cell_type": "code",
   "execution_count": null,
   "metadata": {},
   "outputs": [],
   "source": [
    "reader = pa.ipc.open_stream(buffer)\n",
    "table = reader.read_all()\n",
    "table"
   ]
  },
  {
   "cell_type": "code",
   "execution_count": 4,
   "metadata": {},
   "outputs": [
    {
     "output_type": "execute_result",
     "data": {
      "text/plain": [
       "    partition key  sepal_width  target\n",
       "0             7.4          2.8       2\n",
       "1             4.7          3.2       0\n",
       "2             5.7          2.5       2\n",
       "3             5.6          2.8       2\n",
       "4             4.6          3.2       0\n",
       "5             5.5          2.6       1\n",
       "6             4.3          3.0       0\n",
       "7             5.4          3.0       1\n",
       "8             6.1          2.6       2\n",
       "9             6.5          3.0       2\n",
       "10            6.2          3.4       2\n",
       "11            6.6          3.0       1\n",
       "12            7.7          3.0       2\n",
       "13            5.9          3.0       2\n",
       "14            5.8          2.7       2\n",
       "15            7.9          3.8       2\n",
       "16            4.9          2.5       2\n",
       "17            6.3          2.5       2\n",
       "18            5.2          2.7       1\n",
       "19            7.2          3.0       2\n",
       "20            7.3          2.9       2\n",
       "21            5.0          2.3       1\n",
       "22            5.1          2.5       1\n",
       "23            4.8          3.0       0\n",
       "24            7.6          3.0       2\n",
       "25            6.9          3.1       2\n",
       "26            6.7          3.0       2\n",
       "27            4.4          3.2       0\n",
       "28            6.0          3.0       2\n",
       "29            7.1          3.0       2\n",
       "30            6.8          3.2       2\n",
       "31            6.4          3.1       2\n",
       "32            4.5          2.3       0\n",
       "33            5.3          3.7       0\n",
       "34            7.0          3.2       1"
      ],
      "text/html": "<div>\n<style scoped>\n    .dataframe tbody tr th:only-of-type {\n        vertical-align: middle;\n    }\n\n    .dataframe tbody tr th {\n        vertical-align: top;\n    }\n\n    .dataframe thead th {\n        text-align: right;\n    }\n</style>\n<table border=\"1\" class=\"dataframe\">\n  <thead>\n    <tr style=\"text-align: right;\">\n      <th></th>\n      <th>partition key</th>\n      <th>sepal_width</th>\n      <th>target</th>\n    </tr>\n  </thead>\n  <tbody>\n    <tr>\n      <th>0</th>\n      <td>7.4</td>\n      <td>2.8</td>\n      <td>2</td>\n    </tr>\n    <tr>\n      <th>1</th>\n      <td>4.7</td>\n      <td>3.2</td>\n      <td>0</td>\n    </tr>\n    <tr>\n      <th>2</th>\n      <td>5.7</td>\n      <td>2.5</td>\n      <td>2</td>\n    </tr>\n    <tr>\n      <th>3</th>\n      <td>5.6</td>\n      <td>2.8</td>\n      <td>2</td>\n    </tr>\n    <tr>\n      <th>4</th>\n      <td>4.6</td>\n      <td>3.2</td>\n      <td>0</td>\n    </tr>\n    <tr>\n      <th>5</th>\n      <td>5.5</td>\n      <td>2.6</td>\n      <td>1</td>\n    </tr>\n    <tr>\n      <th>6</th>\n      <td>4.3</td>\n      <td>3.0</td>\n      <td>0</td>\n    </tr>\n    <tr>\n      <th>7</th>\n      <td>5.4</td>\n      <td>3.0</td>\n      <td>1</td>\n    </tr>\n    <tr>\n      <th>8</th>\n      <td>6.1</td>\n      <td>2.6</td>\n      <td>2</td>\n    </tr>\n    <tr>\n      <th>9</th>\n      <td>6.5</td>\n      <td>3.0</td>\n      <td>2</td>\n    </tr>\n    <tr>\n      <th>10</th>\n      <td>6.2</td>\n      <td>3.4</td>\n      <td>2</td>\n    </tr>\n    <tr>\n      <th>11</th>\n      <td>6.6</td>\n      <td>3.0</td>\n      <td>1</td>\n    </tr>\n    <tr>\n      <th>12</th>\n      <td>7.7</td>\n      <td>3.0</td>\n      <td>2</td>\n    </tr>\n    <tr>\n      <th>13</th>\n      <td>5.9</td>\n      <td>3.0</td>\n      <td>2</td>\n    </tr>\n    <tr>\n      <th>14</th>\n      <td>5.8</td>\n      <td>2.7</td>\n      <td>2</td>\n    </tr>\n    <tr>\n      <th>15</th>\n      <td>7.9</td>\n      <td>3.8</td>\n      <td>2</td>\n    </tr>\n    <tr>\n      <th>16</th>\n      <td>4.9</td>\n      <td>2.5</td>\n      <td>2</td>\n    </tr>\n    <tr>\n      <th>17</th>\n      <td>6.3</td>\n      <td>2.5</td>\n      <td>2</td>\n    </tr>\n    <tr>\n      <th>18</th>\n      <td>5.2</td>\n      <td>2.7</td>\n      <td>1</td>\n    </tr>\n    <tr>\n      <th>19</th>\n      <td>7.2</td>\n      <td>3.0</td>\n      <td>2</td>\n    </tr>\n    <tr>\n      <th>20</th>\n      <td>7.3</td>\n      <td>2.9</td>\n      <td>2</td>\n    </tr>\n    <tr>\n      <th>21</th>\n      <td>5.0</td>\n      <td>2.3</td>\n      <td>1</td>\n    </tr>\n    <tr>\n      <th>22</th>\n      <td>5.1</td>\n      <td>2.5</td>\n      <td>1</td>\n    </tr>\n    <tr>\n      <th>23</th>\n      <td>4.8</td>\n      <td>3.0</td>\n      <td>0</td>\n    </tr>\n    <tr>\n      <th>24</th>\n      <td>7.6</td>\n      <td>3.0</td>\n      <td>2</td>\n    </tr>\n    <tr>\n      <th>25</th>\n      <td>6.9</td>\n      <td>3.1</td>\n      <td>2</td>\n    </tr>\n    <tr>\n      <th>26</th>\n      <td>6.7</td>\n      <td>3.0</td>\n      <td>2</td>\n    </tr>\n    <tr>\n      <th>27</th>\n      <td>4.4</td>\n      <td>3.2</td>\n      <td>0</td>\n    </tr>\n    <tr>\n      <th>28</th>\n      <td>6.0</td>\n      <td>3.0</td>\n      <td>2</td>\n    </tr>\n    <tr>\n      <th>29</th>\n      <td>7.1</td>\n      <td>3.0</td>\n      <td>2</td>\n    </tr>\n    <tr>\n      <th>30</th>\n      <td>6.8</td>\n      <td>3.2</td>\n      <td>2</td>\n    </tr>\n    <tr>\n      <th>31</th>\n      <td>6.4</td>\n      <td>3.1</td>\n      <td>2</td>\n    </tr>\n    <tr>\n      <th>32</th>\n      <td>4.5</td>\n      <td>2.3</td>\n      <td>0</td>\n    </tr>\n    <tr>\n      <th>33</th>\n      <td>5.3</td>\n      <td>3.7</td>\n      <td>0</td>\n    </tr>\n    <tr>\n      <th>34</th>\n      <td>7.0</td>\n      <td>3.2</td>\n      <td>1</td>\n    </tr>\n  </tbody>\n</table>\n</div>"
     },
     "metadata": {},
     "execution_count": 4
    }
   ],
   "source": [
    "table.to_pandas()"
   ]
  },
  {
   "cell_type": "code",
   "execution_count": 4,
   "metadata": {},
   "outputs": [
    {
     "output_type": "error",
     "ename": "NameError",
     "evalue": "name 'cudf' is not defined",
     "traceback": [
      "\u001b[0;31m---------------------------------------------------------------------------\u001b[0m",
      "\u001b[0;31mNameError\u001b[0m                                 Traceback (most recent call last)",
      "\u001b[0;32m<ipython-input-4-5340893e2be3>\u001b[0m in \u001b[0;36m<module>\u001b[0;34m\u001b[0m\n\u001b[0;32m----> 1\u001b[0;31m \u001b[0mgdf\u001b[0m \u001b[0;34m=\u001b[0m \u001b[0mcudf\u001b[0m\u001b[0;34m.\u001b[0m\u001b[0mDataFrame\u001b[0m\u001b[0;34m.\u001b[0m\u001b[0mfrom_arrow\u001b[0m\u001b[0;34m(\u001b[0m\u001b[0mtable\u001b[0m\u001b[0;34m)\u001b[0m\u001b[0;34m\u001b[0m\u001b[0;34m\u001b[0m\u001b[0m\n\u001b[0m\u001b[1;32m      2\u001b[0m \u001b[0mgdf\u001b[0m\u001b[0;34m\u001b[0m\u001b[0;34m\u001b[0m\u001b[0m\n",
      "\u001b[0;31mNameError\u001b[0m: name 'cudf' is not defined"
     ]
    }
   ],
   "source": [
    "gdf = cudf.DataFrame.from_arrow(table)\n",
    "gdf"
   ]
  },
  {
   "cell_type": "code",
   "execution_count": null,
   "metadata": {},
   "outputs": [],
   "source": [
    "bc = BlazingContext()\n",
    "bc.create_table(\"classes\", gdf)\n",
    "bc.describe_table(\"classes\")\n",
    "result = bc.sql(\"SELECT * FROM classes\")\n",
    "result"
   ]
  },
  {
   "cell_type": "code",
   "execution_count": null,
   "metadata": {},
   "outputs": [],
   "source": [
    "n_neighbors = 15\n",
    "\n",
    "# we only take the first two features. We could avoid this ugly\n",
    "# slicing by using a two-dim dataset\n",
    "X = gdf.iloc[:, :2]\n",
    "y = gdf.iloc[:, 2]\n",
    "\n",
    "h = .02  # step size in the mesh\n",
    "\n",
    "# Create color maps\n",
    "cmap_light = ListedColormap(['orange', 'cyan', 'cornflowerblue'])\n",
    "cmap_bold = ['darkorange', 'c', 'darkblue']\n",
    "\n",
    "weights = 'uniform'\n",
    "\n",
    "# we create an instance of Neighbours Classifier and fit the data.\n",
    "clf = KNeighborsClassifier(n_neighbors=15)\n",
    "clf.fit(X, y)\n",
    "\n",
    "# Plot the decision boundary. For that, we will assign a color to each\n",
    "# point in the mesh [x_min, x_max]x[y_min, y_max].\n",
    "x_min, x_max = X.iloc[:, 0].min() - 1, X.iloc[:, 0].max() + 1\n",
    "y_min, y_max = X.iloc[:, 1].min() - 1, X.iloc[:, 1].max() + 1\n",
    "xx, yy = cupy.meshgrid(cupy.arange(x_min, x_max, h),\n",
    "                        cupy.arange(y_min, y_max, h))\n",
    "Z = clf.predict(cupy.c_[xx.ravel(), yy.ravel()])\n",
    "\n",
    "# Put the result into a color plot\n",
    "Z = Z.reshape(xx.shape)\n",
    "plt.figure(figsize=(8, 6))\n",
    "plt.contourf(xx.get(), yy.get(), Z.get(), cmap=cmap_light)\n",
    "\n",
    "# Plot also the training points\n",
    "sns.scatterplot(x=X.iloc[:, 0].to_array(), y=X.iloc[:, 1].to_array(), hue=np.array(['setosa', 'versicolor', 'virginica'])[y.to_array()],\n",
    "                palette=cmap_bold, alpha=1.0, edgecolor=\"black\")\n",
    "plt.xlim(xx.min(), xx.max())\n",
    "plt.ylim(yy.min(), yy.max())\n",
    "plt.title(\"3-Class classification (k = %i, weights = '%s')\"\n",
    "            % (n_neighbors, weights))\n",
    "\n",
    "plt.xlabel('sepal length (cm)')\n",
    "plt.ylabel('sepal width (cm)')\n",
    "\n",
    "plt.show()"
   ]
  }
 ]
}