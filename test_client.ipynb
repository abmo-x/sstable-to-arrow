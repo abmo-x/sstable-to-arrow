{
 "metadata": {
  "language_info": {
   "codemirror_mode": {
    "name": "ipython",
    "version": 3
   },
   "file_extension": ".py",
   "mimetype": "text/x-python",
   "name": "python",
   "nbconvert_exporter": "python",
   "pygments_lexer": "ipython3",
   "version": "3.9.4"
  },
  "orig_nbformat": 4,
  "kernelspec": {
   "name": "python3",
   "display_name": "Python 3.9.4 64-bit ('arrow_sstable': conda)"
  },
  "interpreter": {
   "hash": "11e14a7450b1aa7dac7c67def91465b11df4befdfc2edcec9501702ae1b0749a"
  }
 },
 "nbformat": 4,
 "nbformat_minor": 2,
 "cells": [
  {
   "cell_type": "code",
   "execution_count": 1,
   "metadata": {},
   "outputs": [],
   "source": [
    "import socket\n",
    "import pyarrow as pa\n",
    "\n",
    "HOST = '127.0.0.1'\n",
    "PORT = 9143"
   ]
  },
  {
   "cell_type": "code",
   "execution_count": 2,
   "metadata": {},
   "outputs": [],
   "source": [
    "# read data from socket\n",
    "def fetch_data():\n",
    "    with socket.socket(socket.AF_INET, socket.SOCK_STREAM) as s:\n",
    "        s.connect((HOST, PORT))\n",
    "        s.sendall(b'hello world\\n')\n",
    "        data = b''\n",
    "        while True:\n",
    "            newdata = s.recv(1024)\n",
    "            if not newdata:\n",
    "                break\n",
    "            data += newdata\n",
    "            print(f'received data len {len(newdata)}')\n",
    "    return data"
   ]
  },
  {
   "cell_type": "code",
   "execution_count": 22,
   "metadata": {},
   "outputs": [
    {
     "output_type": "stream",
     "name": "stdout",
     "text": [
      "received data len 1024\nreceived data len 1024\nreceived data len 976\ntotal bytes received: 3024\n"
     ]
    },
    {
     "output_type": "error",
     "ename": "OSError",
     "evalue": "buffer_index out of range.",
     "traceback": [
      "\u001b[0;31m---------------------------------------------------------------------------\u001b[0m",
      "\u001b[0;31mOSError\u001b[0m                                   Traceback (most recent call last)",
      "\u001b[0;32m<ipython-input-22-8e1641be9cbd>\u001b[0m in \u001b[0;36m<module>\u001b[0;34m\u001b[0m\n\u001b[1;32m      2\u001b[0m \u001b[0mprint\u001b[0m\u001b[0;34m(\u001b[0m\u001b[0;34mf'total bytes received: {len(buffer)}'\u001b[0m\u001b[0;34m)\u001b[0m\u001b[0;34m\u001b[0m\u001b[0;34m\u001b[0m\u001b[0m\n\u001b[1;32m      3\u001b[0m \u001b[0mreader\u001b[0m \u001b[0;34m=\u001b[0m \u001b[0mpa\u001b[0m\u001b[0;34m.\u001b[0m\u001b[0mipc\u001b[0m\u001b[0;34m.\u001b[0m\u001b[0mopen_stream\u001b[0m\u001b[0;34m(\u001b[0m\u001b[0mbuffer\u001b[0m\u001b[0;34m)\u001b[0m\u001b[0;34m\u001b[0m\u001b[0;34m\u001b[0m\u001b[0m\n\u001b[0;32m----> 4\u001b[0;31m \u001b[0mtable\u001b[0m \u001b[0;34m=\u001b[0m \u001b[0mreader\u001b[0m\u001b[0;34m.\u001b[0m\u001b[0mread_pandas\u001b[0m\u001b[0;34m(\u001b[0m\u001b[0;34m)\u001b[0m\u001b[0;34m\u001b[0m\u001b[0;34m\u001b[0m\u001b[0m\n\u001b[0m\u001b[1;32m      5\u001b[0m \u001b[0mprint\u001b[0m\u001b[0;34m(\u001b[0m\u001b[0mtable\u001b[0m\u001b[0;34m)\u001b[0m\u001b[0;34m\u001b[0m\u001b[0;34m\u001b[0m\u001b[0m\n\u001b[1;32m      6\u001b[0m \u001b[0;31m# table.to_pandas()\u001b[0m\u001b[0;34m\u001b[0m\u001b[0;34m\u001b[0m\u001b[0;34m\u001b[0m\u001b[0m\n",
      "\u001b[0;32m/usr/local/anaconda3/envs/arrow_sstable/lib/python3.9/site-packages/pyarrow/ipc.pxi\u001b[0m in \u001b[0;36mpyarrow.lib._ReadPandasMixin.read_pandas\u001b[0;34m()\u001b[0m\n",
      "\u001b[0;32m/usr/local/anaconda3/envs/arrow_sstable/lib/python3.9/site-packages/pyarrow/ipc.pxi\u001b[0m in \u001b[0;36mpyarrow.lib.RecordBatchReader.read_all\u001b[0;34m()\u001b[0m\n",
      "\u001b[0;32m/usr/local/anaconda3/envs/arrow_sstable/lib/python3.9/site-packages/pyarrow/error.pxi\u001b[0m in \u001b[0;36mpyarrow.lib.check_status\u001b[0;34m()\u001b[0m\n",
      "\u001b[0;31mOSError\u001b[0m: buffer_index out of range."
     ]
    }
   ],
   "source": [
    "buffer = fetch_data()\n",
    "print(f'total bytes received: {len(buffer)}')\n",
    "reader = pa.ipc.open_stream(buffer)\n",
    "table = reader.read_pandas()\n",
    "print(table)\n",
    "# table.to_pandas()"
   ]
  },
  {
   "cell_type": "code",
   "execution_count": 23,
   "metadata": {},
   "outputs": [
    {
     "output_type": "execute_result",
     "data": {
      "text/plain": [
       "ReadStats(num_messages=2, num_record_batches=1, num_dictionary_batches=0, num_dictionary_deltas=0, num_replaced_dictionaries=0)"
      ]
     },
     "metadata": {},
     "execution_count": 23
    }
   ],
   "source": [
    "reader.stats"
   ]
  },
  {
   "cell_type": "code",
   "execution_count": 18,
   "metadata": {},
   "outputs": [],
   "source": [
    "table = reader.read_all()\n"
   ]
  },
  {
   "cell_type": "code",
   "execution_count": 19,
   "metadata": {},
   "outputs": [
    {
     "output_type": "execute_result",
     "data": {
      "text/plain": [
       "pyarrow.Table\n",
       "partition key: string\n",
       "bigintval: int64\n",
       "blobval: binary\n",
       "booleanval: bool\n",
       "dateval: date32[day]\n",
       "decimalval: struct<scale: int32, val: binary>\n",
       "  child 0, scale: int32\n",
       "  child 1, val: binary\n",
       "doubleval: double\n",
       "durationval: list<item: int64>\n",
       "  child 0, item: int64\n",
       "floatval: float\n",
       "inetval: dense_union<ipv4: int32=0, ipv6: int64=1>\n",
       "  child 0, ipv4: int32\n",
       "  child 1, ipv6: int64\n",
       "intval: int32\n",
       "smallintval: int16\n",
       "textval: string\n",
       "timestampval: timestamp[ms]\n",
       "timeuuidval: fixed_size_binary[16]\n",
       "timeval: time64[ns]\n",
       "tinyintval: int8\n",
       "uuidval: fixed_size_binary[16]\n",
       "varcharval: string\n",
       "varintval: int64"
      ]
     },
     "metadata": {},
     "execution_count": 19
    }
   ],
   "source": [
    "table"
   ]
  },
  {
   "cell_type": "code",
   "execution_count": 10,
   "metadata": {},
   "outputs": [
    {
     "output_type": "error",
     "ename": "NameError",
     "evalue": "name 'cudf' is not defined",
     "traceback": [
      "\u001b[0;31m---------------------------------------------------------------------------\u001b[0m",
      "\u001b[0;31mNameError\u001b[0m                                 Traceback (most recent call last)",
      "\u001b[0;32m<ipython-input-10-5340893e2be3>\u001b[0m in \u001b[0;36m<module>\u001b[0;34m\u001b[0m\n\u001b[0;32m----> 1\u001b[0;31m \u001b[0mgdf\u001b[0m \u001b[0;34m=\u001b[0m \u001b[0mcudf\u001b[0m\u001b[0;34m.\u001b[0m\u001b[0mDataFrame\u001b[0m\u001b[0;34m.\u001b[0m\u001b[0mfrom_arrow\u001b[0m\u001b[0;34m(\u001b[0m\u001b[0mtable\u001b[0m\u001b[0;34m)\u001b[0m\u001b[0;34m\u001b[0m\u001b[0;34m\u001b[0m\u001b[0m\n\u001b[0m\u001b[1;32m      2\u001b[0m \u001b[0mgdf\u001b[0m\u001b[0;34m\u001b[0m\u001b[0;34m\u001b[0m\u001b[0m\n",
      "\u001b[0;31mNameError\u001b[0m: name 'cudf' is not defined"
     ]
    }
   ],
   "source": [
    "gdf = cudf.DataFrame.from_arrow(table)\n",
    "gdf"
   ]
  },
  {
   "cell_type": "code",
   "execution_count": null,
   "metadata": {},
   "outputs": [],
   "source": [
    "bc = BlazingContext()\n",
    "bc.create_table(\"classes\", gdf)\n",
    "bc.describe_table(\"classes\")\n",
    "result = bc.sql(\"SELECT * FROM classes\")\n",
    "result"
   ]
  },
  {
   "cell_type": "code",
   "execution_count": null,
   "metadata": {},
   "outputs": [],
   "source": [
    "n_neighbors = 15\n",
    "\n",
    "# we only take the first two features. We could avoid this ugly\n",
    "# slicing by using a two-dim dataset\n",
    "X = gdf.iloc[:, :2]\n",
    "y = gdf.iloc[:, 2]\n",
    "\n",
    "h = .02  # step size in the mesh\n",
    "\n",
    "# Create color maps\n",
    "cmap_light = ListedColormap(['orange', 'cyan', 'cornflowerblue'])\n",
    "cmap_bold = ['darkorange', 'c', 'darkblue']\n",
    "\n",
    "weights = 'uniform'\n",
    "\n",
    "# we create an instance of Neighbours Classifier and fit the data.\n",
    "clf = KNeighborsClassifier(n_neighbors=15)\n",
    "clf.fit(X, y)\n",
    "\n",
    "# Plot the decision boundary. For that, we will assign a color to each\n",
    "# point in the mesh [x_min, x_max]x[y_min, y_max].\n",
    "x_min, x_max = X.iloc[:, 0].min() - 1, X.iloc[:, 0].max() + 1\n",
    "y_min, y_max = X.iloc[:, 1].min() - 1, X.iloc[:, 1].max() + 1\n",
    "xx, yy = cupy.meshgrid(cupy.arange(x_min, x_max, h),\n",
    "                        cupy.arange(y_min, y_max, h))\n",
    "Z = clf.predict(cupy.c_[xx.ravel(), yy.ravel()])\n",
    "\n",
    "# Put the result into a color plot\n",
    "Z = Z.reshape(xx.shape)\n",
    "plt.figure(figsize=(8, 6))\n",
    "plt.contourf(xx.get(), yy.get(), Z.get(), cmap=cmap_light)\n",
    "\n",
    "# Plot also the training points\n",
    "sns.scatterplot(x=X.iloc[:, 0].to_array(), y=X.iloc[:, 1].to_array(), hue=np.array(['setosa', 'versicolor', 'virginica'])[y.to_array()],\n",
    "                palette=cmap_bold, alpha=1.0, edgecolor=\"black\")\n",
    "plt.xlim(xx.min(), xx.max())\n",
    "plt.ylim(yy.min(), yy.max())\n",
    "plt.title(\"3-Class classification (k = %i, weights = '%s')\"\n",
    "            % (n_neighbors, weights))\n",
    "\n",
    "plt.xlabel('sepal length (cm)')\n",
    "plt.ylabel('sepal width (cm)')\n",
    "\n",
    "plt.show()"
   ]
  }
 ]
}