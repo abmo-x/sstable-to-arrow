{
 "metadata": {
  "language_info": {
   "codemirror_mode": {
    "name": "ipython",
    "version": 3
   },
   "file_extension": ".py",
   "mimetype": "text/x-python",
   "name": "python",
   "nbconvert_exporter": "python",
   "pygments_lexer": "ipython3",
   "version": "3.9.4"
  },
  "orig_nbformat": 4,
  "kernelspec": {
   "name": "python3",
   "display_name": "Python 3.9.4 64-bit ('arrow_sstable': conda)"
  },
  "interpreter": {
   "hash": "11e14a7450b1aa7dac7c67def91465b11df4befdfc2edcec9501702ae1b0749a"
  }
 },
 "nbformat": 4,
 "nbformat_minor": 2,
 "cells": [
  {
   "source": [
    "# 3. Cassandra to Arrow\n",
    "\n",
    "We use some code from the Cassandra server to read the SSTable, but instead of de/serializing to/from CQL, we use an [Arrow IPC stream](http://arrow.apache.org/), which is stored in a columnar format and better suited for analytics.\n",
    "\n",
    "Data transformations:\n",
    "\n",
    "1. SSTable on disk\n",
    "2. Deserialized into Java Object in C* server\n",
    "3. Client makes request to server (not to C* DB)\n",
    "4. Data serialized via Arrow IPC stream\n",
    "5. Sent across network\n",
    "6. Arrow IPC stream received by client\n",
    "7. Transformed into Arrow Table / cuDF\n",
    "\n",
    "**Pros:**\n",
    "- doesn't make request to the main Cassandra DB, which lessens the load and allows for other operations to run\n",
    "- less de/serialization involved using the Arrow IPC stream\n",
    "\n",
    "**Cons:**\n",
    "- don't want to have to start Cassandra or use the JVM\n",
    "- complex architecture"
   ],
   "cell_type": "markdown",
   "metadata": {}
  },
  {
   "cell_type": "code",
   "execution_count": 1,
   "metadata": {},
   "outputs": [],
   "source": [
    "import pyarrow as pa\n",
    "import pandas as pd\n",
    "import socket\n",
    "\n",
    "HOST = '127.0.0.1'\n",
    "PORT = 9143"
   ]
  },
  {
   "cell_type": "code",
   "execution_count": 2,
   "metadata": {},
   "outputs": [],
   "source": [
    "# read data from socket\n",
    "def fetch_data():\n",
    "    with socket.socket(socket.AF_INET, socket.SOCK_STREAM) as s:\n",
    "        s.connect((HOST, PORT))\n",
    "        s.sendall(b'hello world\\n')\n",
    "        data = b''\n",
    "        while True:\n",
    "            newdata = s.recv(1024)\n",
    "            if not newdata:\n",
    "                break\n",
    "            data += newdata\n",
    "    return data"
   ]
  },
  {
   "cell_type": "code",
   "execution_count": 3,
   "metadata": {},
   "outputs": [
    {
     "output_type": "execute_result",
     "data": {
      "text/plain": [
       "                                          partition key  \\\n",
       "0     {'org.apache.cassandra.db.marshal.UUIDType': b...   \n",
       "1     {'org.apache.cassandra.db.marshal.UUIDType': b...   \n",
       "2     {'org.apache.cassandra.db.marshal.UUIDType': b...   \n",
       "3     {'org.apache.cassandra.db.marshal.UUIDType': b...   \n",
       "4     {'org.apache.cassandra.db.marshal.UUIDType': b...   \n",
       "...                                                 ...   \n",
       "4995  {'org.apache.cassandra.db.marshal.UUIDType': b...   \n",
       "4996  {'org.apache.cassandra.db.marshal.UUIDType': b...   \n",
       "4997  {'org.apache.cassandra.db.marshal.UUIDType': b...   \n",
       "4998  {'org.apache.cassandra.db.marshal.UUIDType': b...   \n",
       "4999  {'org.apache.cassandra.db.marshal.UUIDType': b...   \n",
       "\n",
       "        liveness_info_tstamp          clustering key  \\\n",
       "0    1970-01-01 00:00:00.042 1970-01-01 00:00:00.042   \n",
       "1    1970-01-01 00:00:00.002 1970-01-01 00:00:00.002   \n",
       "2    1970-01-01 00:00:00.041 1970-01-01 00:00:00.041   \n",
       "3    1970-01-01 00:00:00.025 1970-01-01 00:00:00.025   \n",
       "4    1970-01-01 00:00:00.009 1970-01-01 00:00:00.009   \n",
       "...                      ...                     ...   \n",
       "4995 1970-01-01 00:00:00.018 1970-01-01 00:00:00.018   \n",
       "4996 1970-01-01 00:00:00.000 1970-01-01 00:00:00.000   \n",
       "4997 1970-01-01 00:00:00.031 1970-01-01 00:00:00.031   \n",
       "4998 1970-01-01 00:00:00.014 1970-01-01 00:00:00.014   \n",
       "4999 1970-01-01 00:00:00.029 1970-01-01 00:00:00.029   \n",
       "\n",
       "                                                   data  sensor_value  \\\n",
       "0     ollis quis risus sit amet venenatis. Suspendis...     94.353640   \n",
       "1     ue sapien et, fermentum neque. Pellentesque mo...     95.759791   \n",
       "2      Ut suscipit sem vel orci venenatis, a rutrum ...     86.207276   \n",
       "3     tortor hendrerit, nec ultricies dui vestibulum...     97.209750   \n",
       "4     ctus mauris nec urna. Duis sit amet enim trist...    106.497951   \n",
       "...                                                 ...           ...   \n",
       "4995  mi non consectetur pretium, diam augue maximus...    107.025525   \n",
       "4996  et odio a dolor placerat bibendum. Praesent au...    106.780531   \n",
       "4997  . Mauris vestibulum leo eu nunc commodo, at te...    100.584490   \n",
       "4998  o, sollicitudin eget iaculis vitae, dapibus eu...     99.889286   \n",
       "4999   pellentesque. Maecenas in est a elit vulputat...    105.099324   \n",
       "\n",
       "                                             station_id  \n",
       "0     b'(\\xdfc\\xb7\\xccWC\\xcb\\x97R\\xfa\\xe6\\x9d\\x16S\\xda'  \n",
       "1     b'(\\xdfc\\xb7\\xccWC\\xcb\\x97R\\xfa\\xe6\\x9d\\x16S\\xda'  \n",
       "2     b'(\\xdfc\\xb7\\xccWC\\xcb\\x97R\\xfa\\xe6\\x9d\\x16S\\xda'  \n",
       "3     b'(\\xdfc\\xb7\\xccWC\\xcb\\x97R\\xfa\\xe6\\x9d\\x16S\\xda'  \n",
       "4     b'(\\xdfc\\xb7\\xccWC\\xcb\\x97R\\xfa\\xe6\\x9d\\x16S\\xda'  \n",
       "...                                                 ...  \n",
       "4995  b'(\\xdfc\\xb7\\xccWC\\xcb\\x97R\\xfa\\xe6\\x9d\\x16S\\xda'  \n",
       "4996  b'(\\xdfc\\xb7\\xccWC\\xcb\\x97R\\xfa\\xe6\\x9d\\x16S\\xda'  \n",
       "4997  b'(\\xdfc\\xb7\\xccWC\\xcb\\x97R\\xfa\\xe6\\x9d\\x16S\\xda'  \n",
       "4998  b'(\\xdfc\\xb7\\xccWC\\xcb\\x97R\\xfa\\xe6\\x9d\\x16S\\xda'  \n",
       "4999  b'(\\xdfc\\xb7\\xccWC\\xcb\\x97R\\xfa\\xe6\\x9d\\x16S\\xda'  \n",
       "\n",
       "[5000 rows x 6 columns]"
      ],
      "text/html": "<div>\n<style scoped>\n    .dataframe tbody tr th:only-of-type {\n        vertical-align: middle;\n    }\n\n    .dataframe tbody tr th {\n        vertical-align: top;\n    }\n\n    .dataframe thead th {\n        text-align: right;\n    }\n</style>\n<table border=\"1\" class=\"dataframe\">\n  <thead>\n    <tr style=\"text-align: right;\">\n      <th></th>\n      <th>partition key</th>\n      <th>liveness_info_tstamp</th>\n      <th>clustering key</th>\n      <th>data</th>\n      <th>sensor_value</th>\n      <th>station_id</th>\n    </tr>\n  </thead>\n  <tbody>\n    <tr>\n      <th>0</th>\n      <td>{'org.apache.cassandra.db.marshal.UUIDType': b...</td>\n      <td>1970-01-01 00:00:00.042</td>\n      <td>1970-01-01 00:00:00.042</td>\n      <td>ollis quis risus sit amet venenatis. Suspendis...</td>\n      <td>94.353640</td>\n      <td>b'(\\xdfc\\xb7\\xccWC\\xcb\\x97R\\xfa\\xe6\\x9d\\x16S\\xda'</td>\n    </tr>\n    <tr>\n      <th>1</th>\n      <td>{'org.apache.cassandra.db.marshal.UUIDType': b...</td>\n      <td>1970-01-01 00:00:00.002</td>\n      <td>1970-01-01 00:00:00.002</td>\n      <td>ue sapien et, fermentum neque. Pellentesque mo...</td>\n      <td>95.759791</td>\n      <td>b'(\\xdfc\\xb7\\xccWC\\xcb\\x97R\\xfa\\xe6\\x9d\\x16S\\xda'</td>\n    </tr>\n    <tr>\n      <th>2</th>\n      <td>{'org.apache.cassandra.db.marshal.UUIDType': b...</td>\n      <td>1970-01-01 00:00:00.041</td>\n      <td>1970-01-01 00:00:00.041</td>\n      <td>Ut suscipit sem vel orci venenatis, a rutrum ...</td>\n      <td>86.207276</td>\n      <td>b'(\\xdfc\\xb7\\xccWC\\xcb\\x97R\\xfa\\xe6\\x9d\\x16S\\xda'</td>\n    </tr>\n    <tr>\n      <th>3</th>\n      <td>{'org.apache.cassandra.db.marshal.UUIDType': b...</td>\n      <td>1970-01-01 00:00:00.025</td>\n      <td>1970-01-01 00:00:00.025</td>\n      <td>tortor hendrerit, nec ultricies dui vestibulum...</td>\n      <td>97.209750</td>\n      <td>b'(\\xdfc\\xb7\\xccWC\\xcb\\x97R\\xfa\\xe6\\x9d\\x16S\\xda'</td>\n    </tr>\n    <tr>\n      <th>4</th>\n      <td>{'org.apache.cassandra.db.marshal.UUIDType': b...</td>\n      <td>1970-01-01 00:00:00.009</td>\n      <td>1970-01-01 00:00:00.009</td>\n      <td>ctus mauris nec urna. Duis sit amet enim trist...</td>\n      <td>106.497951</td>\n      <td>b'(\\xdfc\\xb7\\xccWC\\xcb\\x97R\\xfa\\xe6\\x9d\\x16S\\xda'</td>\n    </tr>\n    <tr>\n      <th>...</th>\n      <td>...</td>\n      <td>...</td>\n      <td>...</td>\n      <td>...</td>\n      <td>...</td>\n      <td>...</td>\n    </tr>\n    <tr>\n      <th>4995</th>\n      <td>{'org.apache.cassandra.db.marshal.UUIDType': b...</td>\n      <td>1970-01-01 00:00:00.018</td>\n      <td>1970-01-01 00:00:00.018</td>\n      <td>mi non consectetur pretium, diam augue maximus...</td>\n      <td>107.025525</td>\n      <td>b'(\\xdfc\\xb7\\xccWC\\xcb\\x97R\\xfa\\xe6\\x9d\\x16S\\xda'</td>\n    </tr>\n    <tr>\n      <th>4996</th>\n      <td>{'org.apache.cassandra.db.marshal.UUIDType': b...</td>\n      <td>1970-01-01 00:00:00.000</td>\n      <td>1970-01-01 00:00:00.000</td>\n      <td>et odio a dolor placerat bibendum. Praesent au...</td>\n      <td>106.780531</td>\n      <td>b'(\\xdfc\\xb7\\xccWC\\xcb\\x97R\\xfa\\xe6\\x9d\\x16S\\xda'</td>\n    </tr>\n    <tr>\n      <th>4997</th>\n      <td>{'org.apache.cassandra.db.marshal.UUIDType': b...</td>\n      <td>1970-01-01 00:00:00.031</td>\n      <td>1970-01-01 00:00:00.031</td>\n      <td>. Mauris vestibulum leo eu nunc commodo, at te...</td>\n      <td>100.584490</td>\n      <td>b'(\\xdfc\\xb7\\xccWC\\xcb\\x97R\\xfa\\xe6\\x9d\\x16S\\xda'</td>\n    </tr>\n    <tr>\n      <th>4998</th>\n      <td>{'org.apache.cassandra.db.marshal.UUIDType': b...</td>\n      <td>1970-01-01 00:00:00.014</td>\n      <td>1970-01-01 00:00:00.014</td>\n      <td>o, sollicitudin eget iaculis vitae, dapibus eu...</td>\n      <td>99.889286</td>\n      <td>b'(\\xdfc\\xb7\\xccWC\\xcb\\x97R\\xfa\\xe6\\x9d\\x16S\\xda'</td>\n    </tr>\n    <tr>\n      <th>4999</th>\n      <td>{'org.apache.cassandra.db.marshal.UUIDType': b...</td>\n      <td>1970-01-01 00:00:00.029</td>\n      <td>1970-01-01 00:00:00.029</td>\n      <td>pellentesque. Maecenas in est a elit vulputat...</td>\n      <td>105.099324</td>\n      <td>b'(\\xdfc\\xb7\\xccWC\\xcb\\x97R\\xfa\\xe6\\x9d\\x16S\\xda'</td>\n    </tr>\n  </tbody>\n</table>\n<p>5000 rows × 6 columns</p>\n</div>"
     },
     "metadata": {},
     "execution_count": 3
    }
   ],
   "source": [
    "buffer = fetch_data()\n",
    "reader = pa.ipc.open_stream(buffer)\n",
    "arrow_table = reader.read_all()\n",
    "arrow_table.to_pandas() # for visualization"
   ]
  },
  {
   "cell_type": "code",
   "execution_count": 5,
   "metadata": {},
   "outputs": [
    {
     "output_type": "stream",
     "name": "stdout",
     "text": [
      "CMakeCache.txt          deletion_time.h         sstable_statistics.cpp\n\u001b[1m\u001b[36mCMakeFiles\u001b[m\u001b[m              results.json            sstable_statistics.h\nCPackConfig.cmake       rules.ninja             sstable_summary.cpp\nCPackSourceConfig.cmake sstable_data.cpp        sstable_summary.h\nbuild.ninja             sstable_data.h          \u001b[31msstable_to_arrow\u001b[m\u001b[m\ncmake_install.cmake     sstable_index.cpp       table.parquet\ndeletion_time.cpp       sstable_index.h\n"
     ]
    }
   ],
   "source": [
    "!ls ../cpp/build"
   ]
  },
  {
   "cell_type": "code",
   "execution_count": 6,
   "metadata": {},
   "outputs": [],
   "source": [
    "parquet_table = pd.read_parquet(\"../cpp/build/table.parquet\")"
   ]
  },
  {
   "cell_type": "code",
   "execution_count": 7,
   "metadata": {},
   "outputs": [
    {
     "output_type": "execute_result",
     "data": {
      "text/plain": [
       "  _timestamp                                      partition key  \\\n",
       "0 1924-04-12  {'org.apache.cassandra.db.marshal.UUIDType': b...   \n",
       "\n",
       "  clustering key                                               data  \\\n",
       "0     1970-01-01   vulputate. Vestibulum at imperdiet metus, et ...   \n",
       "\n",
       "   sensor_value                                         station_id  \n",
       "0     97.651955  b'(\\xdfc\\xb7\\xccWC\\xcb\\x97R\\xfa\\xe6\\x9d\\x16S\\xda'  "
      ],
      "text/html": "<div>\n<style scoped>\n    .dataframe tbody tr th:only-of-type {\n        vertical-align: middle;\n    }\n\n    .dataframe tbody tr th {\n        vertical-align: top;\n    }\n\n    .dataframe thead th {\n        text-align: right;\n    }\n</style>\n<table border=\"1\" class=\"dataframe\">\n  <thead>\n    <tr style=\"text-align: right;\">\n      <th></th>\n      <th>_timestamp</th>\n      <th>partition key</th>\n      <th>clustering key</th>\n      <th>data</th>\n      <th>sensor_value</th>\n      <th>station_id</th>\n    </tr>\n  </thead>\n  <tbody>\n    <tr>\n      <th>0</th>\n      <td>1924-04-12</td>\n      <td>{'org.apache.cassandra.db.marshal.UUIDType': b...</td>\n      <td>1970-01-01</td>\n      <td>vulputate. Vestibulum at imperdiet metus, et ...</td>\n      <td>97.651955</td>\n      <td>b'(\\xdfc\\xb7\\xccWC\\xcb\\x97R\\xfa\\xe6\\x9d\\x16S\\xda'</td>\n    </tr>\n  </tbody>\n</table>\n</div>"
     },
     "metadata": {},
     "execution_count": 7
    }
   ],
   "source": [
    "parquet_table"
   ]
  },
  {
   "cell_type": "code",
   "execution_count": null,
   "metadata": {},
   "outputs": [],
   "source": []
  }
 ]
}