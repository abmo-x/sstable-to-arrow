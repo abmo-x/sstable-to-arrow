{
 "metadata": {
  "language_info": {
   "codemirror_mode": {
    "name": "ipython",
    "version": 3
   },
   "file_extension": ".py",
   "mimetype": "text/x-python",
   "name": "python",
   "nbconvert_exporter": "python",
   "pygments_lexer": "ipython3",
   "version": "3.9.4"
  },
  "orig_nbformat": 4,
  "kernelspec": {
   "name": "python3",
   "display_name": "Python 3.9.4 64-bit ('arrow_sstable': conda)"
  },
  "interpreter": {
   "hash": "11e14a7450b1aa7dac7c67def91465b11df4befdfc2edcec9501702ae1b0749a"
  }
 },
 "nbformat": 4,
 "nbformat_minor": 2,
 "cells": [
  {
   "source": [
    "# 3. Cassandra to Arrow\n",
    "\n",
    "We use some code from the Cassandra server to read the SSTable, but instead of de/serializing to/from CQL, we use an [Arrow IPC stream](http://arrow.apache.org/), which is stored in a columnar format and better suited for analytics.\n",
    "\n",
    "Data transformations:\n",
    "\n",
    "1. SSTable on disk\n",
    "2. Deserialized into Java Object in C* server\n",
    "3. Client makes request to server (not to C* DB)\n",
    "4. Data serialized via Arrow IPC stream\n",
    "5. Sent across network\n",
    "6. Arrow IPC stream received by client\n",
    "7. Transformed into Arrow Table / cuDF\n",
    "\n",
    "**Pros:**\n",
    "- doesn't make request to the main Cassandra DB, which lessens the load and allows for other operations to run\n",
    "- less de/serialization involved using the Arrow IPC stream\n",
    "\n",
    "**Cons:**\n",
    "- don't want to have to start Cassandra or use the JVM\n",
    "- complex architecture"
   ],
   "cell_type": "markdown",
   "metadata": {}
  },
  {
   "cell_type": "code",
   "execution_count": 1,
   "metadata": {},
   "outputs": [],
   "source": [
    "import pyarrow as pa\n",
    "import pandas as pd\n",
    "import socket\n",
    "\n",
    "HOST = '127.0.0.1'\n",
    "PORT = 9143"
   ]
  },
  {
   "cell_type": "code",
   "execution_count": 2,
   "metadata": {},
   "outputs": [],
   "source": [
    "# read data from socket\n",
    "def fetch_data():\n",
    "    with socket.socket(socket.AF_INET, socket.SOCK_STREAM) as s:\n",
    "        s.connect((HOST, PORT))\n",
    "        s.sendall(b'hello world\\n')\n",
    "        data = b''\n",
    "        while True:\n",
    "            newdata = s.recv(1024)\n",
    "            if not newdata:\n",
    "                break\n",
    "            data += newdata\n",
    "    return data"
   ]
  },
  {
   "cell_type": "code",
   "execution_count": 4,
   "metadata": {},
   "outputs": [
    {
     "output_type": "execute_result",
     "data": {
      "text/plain": [
       "        liveness_info_tstamp partition key      value\n",
       "0 2021-07-15 16:51:35.440203             6  439790106\n",
       "1 2021-07-15 16:51:35.442510             7  564330072\n",
       "2 2021-07-15 16:51:35.446255             9   97405552\n",
       "3 2021-07-15 16:51:35.434989             4  351686621\n",
       "4 2021-07-15 16:51:35.416599             3  352527683\n",
       "5 2021-07-15 16:51:35.437366             5  114304900\n",
       "6 2021-07-15 16:51:35.403305             0  382062539\n",
       "7 2021-07-15 16:51:35.444276             8  296173906\n",
       "8 2021-07-15 16:51:35.414324             2  949364593\n",
       "9 2021-07-15 16:51:35.409490             1  774912474"
      ],
      "text/html": "<div>\n<style scoped>\n    .dataframe tbody tr th:only-of-type {\n        vertical-align: middle;\n    }\n\n    .dataframe tbody tr th {\n        vertical-align: top;\n    }\n\n    .dataframe thead th {\n        text-align: right;\n    }\n</style>\n<table border=\"1\" class=\"dataframe\">\n  <thead>\n    <tr style=\"text-align: right;\">\n      <th></th>\n      <th>liveness_info_tstamp</th>\n      <th>partition key</th>\n      <th>value</th>\n    </tr>\n  </thead>\n  <tbody>\n    <tr>\n      <th>0</th>\n      <td>2021-07-15 16:51:35.440203</td>\n      <td>6</td>\n      <td>439790106</td>\n    </tr>\n    <tr>\n      <th>1</th>\n      <td>2021-07-15 16:51:35.442510</td>\n      <td>7</td>\n      <td>564330072</td>\n    </tr>\n    <tr>\n      <th>2</th>\n      <td>2021-07-15 16:51:35.446255</td>\n      <td>9</td>\n      <td>97405552</td>\n    </tr>\n    <tr>\n      <th>3</th>\n      <td>2021-07-15 16:51:35.434989</td>\n      <td>4</td>\n      <td>351686621</td>\n    </tr>\n    <tr>\n      <th>4</th>\n      <td>2021-07-15 16:51:35.416599</td>\n      <td>3</td>\n      <td>352527683</td>\n    </tr>\n    <tr>\n      <th>5</th>\n      <td>2021-07-15 16:51:35.437366</td>\n      <td>5</td>\n      <td>114304900</td>\n    </tr>\n    <tr>\n      <th>6</th>\n      <td>2021-07-15 16:51:35.403305</td>\n      <td>0</td>\n      <td>382062539</td>\n    </tr>\n    <tr>\n      <th>7</th>\n      <td>2021-07-15 16:51:35.444276</td>\n      <td>8</td>\n      <td>296173906</td>\n    </tr>\n    <tr>\n      <th>8</th>\n      <td>2021-07-15 16:51:35.414324</td>\n      <td>2</td>\n      <td>949364593</td>\n    </tr>\n    <tr>\n      <th>9</th>\n      <td>2021-07-15 16:51:35.409490</td>\n      <td>1</td>\n      <td>774912474</td>\n    </tr>\n  </tbody>\n</table>\n</div>"
     },
     "metadata": {},
     "execution_count": 4
    }
   ],
   "source": [
    "buffer = fetch_data()\n",
    "reader = pa.ipc.open_stream(buffer)\n",
    "arrow_table = reader.read_all()\n",
    "arrow_table.to_pandas() # for visualization"
   ]
  },
  {
   "cell_type": "code",
   "execution_count": 5,
   "metadata": {},
   "outputs": [
    {
     "output_type": "stream",
     "name": "stdout",
     "text": [
      "CMakeCache.txt          deletion_time.h         sstable_statistics.cpp\n\u001b[1m\u001b[36mCMakeFiles\u001b[m\u001b[m              results.json            sstable_statistics.h\nCPackConfig.cmake       rules.ninja             sstable_summary.cpp\nCPackSourceConfig.cmake sstable_data.cpp        sstable_summary.h\nbuild.ninja             sstable_data.h          \u001b[31msstable_to_arrow\u001b[m\u001b[m\ncmake_install.cmake     sstable_index.cpp       table.parquet\ndeletion_time.cpp       sstable_index.h\n"
     ]
    }
   ],
   "source": [
    "!ls ../cpp/build"
   ]
  },
  {
   "cell_type": "code",
   "execution_count": 6,
   "metadata": {},
   "outputs": [],
   "source": [
    "parquet_table = pd.read_parquet(\"../cpp/build/table.parquet\")"
   ]
  },
  {
   "cell_type": "code",
   "execution_count": 7,
   "metadata": {},
   "outputs": [
    {
     "output_type": "execute_result",
     "data": {
      "text/plain": [
       "  _timestamp                                      partition key  \\\n",
       "0 1924-04-12  {'org.apache.cassandra.db.marshal.UUIDType': b...   \n",
       "\n",
       "  clustering key                                               data  \\\n",
       "0     1970-01-01   vulputate. Vestibulum at imperdiet metus, et ...   \n",
       "\n",
       "   sensor_value                                         station_id  \n",
       "0     97.651955  b'(\\xdfc\\xb7\\xccWC\\xcb\\x97R\\xfa\\xe6\\x9d\\x16S\\xda'  "
      ],
      "text/html": "<div>\n<style scoped>\n    .dataframe tbody tr th:only-of-type {\n        vertical-align: middle;\n    }\n\n    .dataframe tbody tr th {\n        vertical-align: top;\n    }\n\n    .dataframe thead th {\n        text-align: right;\n    }\n</style>\n<table border=\"1\" class=\"dataframe\">\n  <thead>\n    <tr style=\"text-align: right;\">\n      <th></th>\n      <th>_timestamp</th>\n      <th>partition key</th>\n      <th>clustering key</th>\n      <th>data</th>\n      <th>sensor_value</th>\n      <th>station_id</th>\n    </tr>\n  </thead>\n  <tbody>\n    <tr>\n      <th>0</th>\n      <td>1924-04-12</td>\n      <td>{'org.apache.cassandra.db.marshal.UUIDType': b...</td>\n      <td>1970-01-01</td>\n      <td>vulputate. Vestibulum at imperdiet metus, et ...</td>\n      <td>97.651955</td>\n      <td>b'(\\xdfc\\xb7\\xccWC\\xcb\\x97R\\xfa\\xe6\\x9d\\x16S\\xda'</td>\n    </tr>\n  </tbody>\n</table>\n</div>"
     },
     "metadata": {},
     "execution_count": 7
    }
   ],
   "source": [
    "parquet_table"
   ]
  },
  {
   "cell_type": "code",
   "execution_count": null,
   "metadata": {},
   "outputs": [],
   "source": []
  }
 ]
}