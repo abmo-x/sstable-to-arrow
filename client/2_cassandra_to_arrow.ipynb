{
 "metadata": {
  "language_info": {
   "codemirror_mode": {
    "name": "ipython",
    "version": 3
   },
   "file_extension": ".py",
   "mimetype": "text/x-python",
   "name": "python",
   "nbconvert_exporter": "python",
   "pygments_lexer": "ipython3",
   "version": "3.9.4"
  },
  "orig_nbformat": 4,
  "kernelspec": {
   "name": "python3",
   "display_name": "Python 3.9.4 64-bit ('arrow_sstable': conda)"
  },
  "interpreter": {
   "hash": "11e14a7450b1aa7dac7c67def91465b11df4befdfc2edcec9501702ae1b0749a"
  }
 },
 "nbformat": 4,
 "nbformat_minor": 2,
 "cells": [
  {
   "source": [
    "# 3. Cassandra to Arrow\n",
    "\n",
    "We use some code from the Cassandra server to read the SSTable, but instead of de/serializing to/from CQL, we use an [Arrow IPC stream](http://arrow.apache.org/), which is stored in a columnar format and better suited for analytics.\n",
    "\n",
    "Data transformations:\n",
    "\n",
    "1. SSTable on disk\n",
    "2. Deserialized into Java Object in C* server\n",
    "3. Client makes request to server (not to C* DB)\n",
    "4. Data serialized via Arrow IPC stream\n",
    "5. Sent across network\n",
    "6. Arrow IPC stream received by client\n",
    "7. Transformed into Arrow Table / cuDF\n",
    "\n",
    "**Pros:**\n",
    "- doesn't make request to the main Cassandra DB, which lessens the load and allows for other operations to run\n",
    "- less de/serialization involved using the Arrow IPC stream\n",
    "\n",
    "**Cons:**\n",
    "- don't want to have to start Cassandra or use the JVM\n",
    "- complex architecture"
   ],
   "cell_type": "markdown",
   "metadata": {}
  },
  {
   "cell_type": "code",
   "execution_count": 1,
   "metadata": {},
   "outputs": [],
   "source": [
    "import pyarrow as pa\n",
    "# my local computer doesn't have cudf installed\n",
    "# import cudf\n",
    "import socket\n",
    "\n",
    "HOST = '127.0.0.1'\n",
    "PORT = 9143"
   ]
  },
  {
   "cell_type": "code",
   "execution_count": 2,
   "metadata": {},
   "outputs": [],
   "source": [
    "# read data from socket\n",
    "def fetch_data():\n",
    "    with socket.socket(socket.AF_INET, socket.SOCK_STREAM) as s:\n",
    "        s.connect((HOST, PORT))\n",
    "        s.sendall(b'hello world\\n')\n",
    "        data = b''\n",
    "        while True:\n",
    "            newdata = s.recv(1024)\n",
    "            if not newdata:\n",
    "                break\n",
    "            data += newdata\n",
    "    return data"
   ]
  },
  {
   "cell_type": "code",
   "execution_count": 3,
   "metadata": {},
   "outputs": [
    {
     "output_type": "execute_result",
     "data": {
      "text/plain": [
       "                                       partition key clustering key  \\\n",
       "0  {'org.apache.cassandra.db.marshal.UUIDType': b...     1970-01-01   \n",
       "1  {'org.apache.cassandra.db.marshal.UUIDType': b...     1970-01-01   \n",
       "2  {'org.apache.cassandra.db.marshal.UUIDType': b...     1970-01-01   \n",
       "3  {'org.apache.cassandra.db.marshal.UUIDType': b...     1970-01-01   \n",
       "4  {'org.apache.cassandra.db.marshal.UUIDType': b...     1970-01-01   \n",
       "\n",
       "                                                data  sensor_value  \\\n",
       "0   sit amet libero at massa hendrerit convallis....    102.369578   \n",
       "1  tetur adipiscing elit. Etiam iaculis posuere s...    106.161815   \n",
       "2  i. Nam quam lacus, condimentum vel maximus sit...     95.764393   \n",
       "3   vulputate. Vestibulum at imperdiet metus, et ...     97.651955   \n",
       "4  bus turpis, ac pellentesque nulla nunc eu erat...    105.694365   \n",
       "\n",
       "                                          station_id  \n",
       "0  b'(\\xdfc\\xb7\\xccWC\\xcb\\x97R\\xfa\\xe6\\x9d\\x16S\\xda'  \n",
       "1  b'(\\xdfc\\xb7\\xccWC\\xcb\\x97R\\xfa\\xe6\\x9d\\x16S\\xda'  \n",
       "2  b'(\\xdfc\\xb7\\xccWC\\xcb\\x97R\\xfa\\xe6\\x9d\\x16S\\xda'  \n",
       "3  b'(\\xdfc\\xb7\\xccWC\\xcb\\x97R\\xfa\\xe6\\x9d\\x16S\\xda'  \n",
       "4  b'(\\xdfc\\xb7\\xccWC\\xcb\\x97R\\xfa\\xe6\\x9d\\x16S\\xda'  "
      ],
      "text/html": "<div>\n<style scoped>\n    .dataframe tbody tr th:only-of-type {\n        vertical-align: middle;\n    }\n\n    .dataframe tbody tr th {\n        vertical-align: top;\n    }\n\n    .dataframe thead th {\n        text-align: right;\n    }\n</style>\n<table border=\"1\" class=\"dataframe\">\n  <thead>\n    <tr style=\"text-align: right;\">\n      <th></th>\n      <th>partition key</th>\n      <th>clustering key</th>\n      <th>data</th>\n      <th>sensor_value</th>\n      <th>station_id</th>\n    </tr>\n  </thead>\n  <tbody>\n    <tr>\n      <th>0</th>\n      <td>{'org.apache.cassandra.db.marshal.UUIDType': b...</td>\n      <td>1970-01-01</td>\n      <td>sit amet libero at massa hendrerit convallis....</td>\n      <td>102.369578</td>\n      <td>b'(\\xdfc\\xb7\\xccWC\\xcb\\x97R\\xfa\\xe6\\x9d\\x16S\\xda'</td>\n    </tr>\n    <tr>\n      <th>1</th>\n      <td>{'org.apache.cassandra.db.marshal.UUIDType': b...</td>\n      <td>1970-01-01</td>\n      <td>tetur adipiscing elit. Etiam iaculis posuere s...</td>\n      <td>106.161815</td>\n      <td>b'(\\xdfc\\xb7\\xccWC\\xcb\\x97R\\xfa\\xe6\\x9d\\x16S\\xda'</td>\n    </tr>\n    <tr>\n      <th>2</th>\n      <td>{'org.apache.cassandra.db.marshal.UUIDType': b...</td>\n      <td>1970-01-01</td>\n      <td>i. Nam quam lacus, condimentum vel maximus sit...</td>\n      <td>95.764393</td>\n      <td>b'(\\xdfc\\xb7\\xccWC\\xcb\\x97R\\xfa\\xe6\\x9d\\x16S\\xda'</td>\n    </tr>\n    <tr>\n      <th>3</th>\n      <td>{'org.apache.cassandra.db.marshal.UUIDType': b...</td>\n      <td>1970-01-01</td>\n      <td>vulputate. Vestibulum at imperdiet metus, et ...</td>\n      <td>97.651955</td>\n      <td>b'(\\xdfc\\xb7\\xccWC\\xcb\\x97R\\xfa\\xe6\\x9d\\x16S\\xda'</td>\n    </tr>\n    <tr>\n      <th>4</th>\n      <td>{'org.apache.cassandra.db.marshal.UUIDType': b...</td>\n      <td>1970-01-01</td>\n      <td>bus turpis, ac pellentesque nulla nunc eu erat...</td>\n      <td>105.694365</td>\n      <td>b'(\\xdfc\\xb7\\xccWC\\xcb\\x97R\\xfa\\xe6\\x9d\\x16S\\xda'</td>\n    </tr>\n  </tbody>\n</table>\n</div>"
     },
     "metadata": {},
     "execution_count": 3
    }
   ],
   "source": [
    "buffer = fetch_data()\n",
    "reader = pa.ipc.open_stream(buffer)\n",
    "arrow_table = reader.read_all()\n",
    "arrow_table.to_pandas() # for visualization"
   ]
  },
  {
   "cell_type": "code",
   "execution_count": null,
   "metadata": {},
   "outputs": [],
   "source": []
  }
 ]
}