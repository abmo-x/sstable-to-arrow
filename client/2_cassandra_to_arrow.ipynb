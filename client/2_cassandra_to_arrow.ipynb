{
 "metadata": {
  "language_info": {
   "codemirror_mode": {
    "name": "ipython",
    "version": 3
   },
   "file_extension": ".py",
   "mimetype": "text/x-python",
   "name": "python",
   "nbconvert_exporter": "python",
   "pygments_lexer": "ipython3",
   "version": "3.9.4"
  },
  "orig_nbformat": 4,
  "kernelspec": {
   "name": "python3",
   "display_name": "Python 3.9.4 64-bit ('arrow_sstable': conda)"
  },
  "interpreter": {
   "hash": "11e14a7450b1aa7dac7c67def91465b11df4befdfc2edcec9501702ae1b0749a"
  }
 },
 "nbformat": 4,
 "nbformat_minor": 2,
 "cells": [
  {
   "source": [
    "# 3. Cassandra to Arrow\n",
    "\n",
    "We use some code from the Cassandra server to read the SSTable, but instead of de/serializing to/from CQL, we use an [Arrow IPC stream](http://arrow.apache.org/), which is stored in a columnar format and better suited for analytics.\n",
    "\n",
    "Data transformations:\n",
    "\n",
    "1. SSTable on disk\n",
    "2. Deserialized into Java Object in C* server\n",
    "3. Client makes request to server (not to C* DB)\n",
    "4. Data serialized via Arrow IPC stream\n",
    "5. Sent across network\n",
    "6. Arrow IPC stream received by client\n",
    "7. Transformed into Arrow Table / cuDF\n",
    "\n",
    "**Pros:**\n",
    "- doesn't make request to the main Cassandra DB, which lessens the load and allows for other operations to run\n",
    "- less de/serialization involved using the Arrow IPC stream\n",
    "\n",
    "**Cons:**\n",
    "- don't want to have to start Cassandra or use the JVM\n",
    "- complex architecture"
   ],
   "cell_type": "markdown",
   "metadata": {}
  },
  {
   "cell_type": "code",
   "execution_count": 1,
   "metadata": {},
   "outputs": [],
   "source": [
    "import pyarrow as pa\n",
    "# my local computer doesn't have cudf installed\n",
    "# import cudf\n",
    "import socket\n",
    "\n",
    "HOST = '127.0.0.1'\n",
    "PORT = 9143"
   ]
  },
  {
   "cell_type": "code",
   "execution_count": 2,
   "metadata": {},
   "outputs": [],
   "source": [
    "# read data from socket\n",
    "def fetch_data():\n",
    "    with socket.socket(socket.AF_INET, socket.SOCK_STREAM) as s:\n",
    "        s.connect((HOST, PORT))\n",
    "        s.sendall(b'hello world\\n')\n",
    "        data = b''\n",
    "        while True:\n",
    "            newdata = s.recv(1024)\n",
    "            if not newdata:\n",
    "                break\n",
    "            data += newdata\n",
    "    return data"
   ]
  },
  {
   "cell_type": "code",
   "execution_count": 6,
   "metadata": {},
   "outputs": [
    {
     "output_type": "execute_result",
     "data": {
      "text/plain": [
       "                 _timestamp  \\\n",
       "0   1924-04-12 00:00:00.002   \n",
       "1   1924-04-12 00:00:00.009   \n",
       "2   1924-04-12 00:00:00.002   \n",
       "3   1924-04-12 00:00:00.001   \n",
       "4   1924-04-12 00:00:00.000   \n",
       "..                      ...   \n",
       "995 1924-04-12 00:00:00.003   \n",
       "996 1924-04-12 00:00:00.006   \n",
       "997 1924-04-12 00:00:00.000   \n",
       "998 1924-04-12 00:00:00.001   \n",
       "999 1924-04-12 00:00:00.000   \n",
       "\n",
       "                                         partition key  \\\n",
       "0    {'org.apache.cassandra.db.marshal.UUIDType': b...   \n",
       "1    {'org.apache.cassandra.db.marshal.UUIDType': b...   \n",
       "2    {'org.apache.cassandra.db.marshal.UUIDType': b...   \n",
       "3    {'org.apache.cassandra.db.marshal.UUIDType': b...   \n",
       "4    {'org.apache.cassandra.db.marshal.UUIDType': b...   \n",
       "..                                                 ...   \n",
       "995  {'org.apache.cassandra.db.marshal.UUIDType': b...   \n",
       "996  {'org.apache.cassandra.db.marshal.UUIDType': b...   \n",
       "997  {'org.apache.cassandra.db.marshal.UUIDType': b...   \n",
       "998  {'org.apache.cassandra.db.marshal.UUIDType': b...   \n",
       "999  {'org.apache.cassandra.db.marshal.UUIDType': b...   \n",
       "\n",
       "             clustering key  \\\n",
       "0   1970-01-01 00:00:00.002   \n",
       "1   1970-01-01 00:00:00.009   \n",
       "2   1970-01-01 00:00:00.002   \n",
       "3   1970-01-01 00:00:00.001   \n",
       "4   1970-01-01 00:00:00.000   \n",
       "..                      ...   \n",
       "995 1970-01-01 00:00:00.003   \n",
       "996 1970-01-01 00:00:00.006   \n",
       "997 1970-01-01 00:00:00.000   \n",
       "998 1970-01-01 00:00:00.001   \n",
       "999 1970-01-01 00:00:00.000   \n",
       "\n",
       "                                                  data  sensor_value  \\\n",
       "0    ue sapien et, fermentum neque. Pellentesque mo...     95.759791   \n",
       "1    ctus mauris nec urna. Duis sit amet enim trist...    106.497951   \n",
       "2    ere purus vitae vehicula porttitor. Cum sociis...    100.090271   \n",
       "3    luctus est, et vulputate odio felis interdum m...     94.181632   \n",
       "4     imperdiet sed est. Aliquam a quam condimentum...     99.909094   \n",
       "..                                                 ...           ...   \n",
       "995  ulum vehicula euismod purus ac tempus. Nam mol...    105.890743   \n",
       "996  rat nibh. Vivamus eu quam id mi gravida porta ...    103.857088   \n",
       "997  pien.\\nDonec sit amet est eu libero malesuada ...     95.420393   \n",
       "998   sem, gravida vitae commodo a, vestibulum plac...    103.726586   \n",
       "999  et odio a dolor placerat bibendum. Praesent au...    106.780531   \n",
       "\n",
       "                                            station_id  \n",
       "0    b'(\\xdfc\\xb7\\xccWC\\xcb\\x97R\\xfa\\xe6\\x9d\\x16S\\xda'  \n",
       "1    b'(\\xdfc\\xb7\\xccWC\\xcb\\x97R\\xfa\\xe6\\x9d\\x16S\\xda'  \n",
       "2    b'(\\xdfc\\xb7\\xccWC\\xcb\\x97R\\xfa\\xe6\\x9d\\x16S\\xda'  \n",
       "3    b'(\\xdfc\\xb7\\xccWC\\xcb\\x97R\\xfa\\xe6\\x9d\\x16S\\xda'  \n",
       "4    b'(\\xdfc\\xb7\\xccWC\\xcb\\x97R\\xfa\\xe6\\x9d\\x16S\\xda'  \n",
       "..                                                 ...  \n",
       "995  b'(\\xdfc\\xb7\\xccWC\\xcb\\x97R\\xfa\\xe6\\x9d\\x16S\\xda'  \n",
       "996  b'(\\xdfc\\xb7\\xccWC\\xcb\\x97R\\xfa\\xe6\\x9d\\x16S\\xda'  \n",
       "997  b'(\\xdfc\\xb7\\xccWC\\xcb\\x97R\\xfa\\xe6\\x9d\\x16S\\xda'  \n",
       "998  b'(\\xdfc\\xb7\\xccWC\\xcb\\x97R\\xfa\\xe6\\x9d\\x16S\\xda'  \n",
       "999  b'(\\xdfc\\xb7\\xccWC\\xcb\\x97R\\xfa\\xe6\\x9d\\x16S\\xda'  \n",
       "\n",
       "[1000 rows x 6 columns]"
      ],
      "text/html": "<div>\n<style scoped>\n    .dataframe tbody tr th:only-of-type {\n        vertical-align: middle;\n    }\n\n    .dataframe tbody tr th {\n        vertical-align: top;\n    }\n\n    .dataframe thead th {\n        text-align: right;\n    }\n</style>\n<table border=\"1\" class=\"dataframe\">\n  <thead>\n    <tr style=\"text-align: right;\">\n      <th></th>\n      <th>_timestamp</th>\n      <th>partition key</th>\n      <th>clustering key</th>\n      <th>data</th>\n      <th>sensor_value</th>\n      <th>station_id</th>\n    </tr>\n  </thead>\n  <tbody>\n    <tr>\n      <th>0</th>\n      <td>1924-04-12 00:00:00.002</td>\n      <td>{'org.apache.cassandra.db.marshal.UUIDType': b...</td>\n      <td>1970-01-01 00:00:00.002</td>\n      <td>ue sapien et, fermentum neque. Pellentesque mo...</td>\n      <td>95.759791</td>\n      <td>b'(\\xdfc\\xb7\\xccWC\\xcb\\x97R\\xfa\\xe6\\x9d\\x16S\\xda'</td>\n    </tr>\n    <tr>\n      <th>1</th>\n      <td>1924-04-12 00:00:00.009</td>\n      <td>{'org.apache.cassandra.db.marshal.UUIDType': b...</td>\n      <td>1970-01-01 00:00:00.009</td>\n      <td>ctus mauris nec urna. Duis sit amet enim trist...</td>\n      <td>106.497951</td>\n      <td>b'(\\xdfc\\xb7\\xccWC\\xcb\\x97R\\xfa\\xe6\\x9d\\x16S\\xda'</td>\n    </tr>\n    <tr>\n      <th>2</th>\n      <td>1924-04-12 00:00:00.002</td>\n      <td>{'org.apache.cassandra.db.marshal.UUIDType': b...</td>\n      <td>1970-01-01 00:00:00.002</td>\n      <td>ere purus vitae vehicula porttitor. Cum sociis...</td>\n      <td>100.090271</td>\n      <td>b'(\\xdfc\\xb7\\xccWC\\xcb\\x97R\\xfa\\xe6\\x9d\\x16S\\xda'</td>\n    </tr>\n    <tr>\n      <th>3</th>\n      <td>1924-04-12 00:00:00.001</td>\n      <td>{'org.apache.cassandra.db.marshal.UUIDType': b...</td>\n      <td>1970-01-01 00:00:00.001</td>\n      <td>luctus est, et vulputate odio felis interdum m...</td>\n      <td>94.181632</td>\n      <td>b'(\\xdfc\\xb7\\xccWC\\xcb\\x97R\\xfa\\xe6\\x9d\\x16S\\xda'</td>\n    </tr>\n    <tr>\n      <th>4</th>\n      <td>1924-04-12 00:00:00.000</td>\n      <td>{'org.apache.cassandra.db.marshal.UUIDType': b...</td>\n      <td>1970-01-01 00:00:00.000</td>\n      <td>imperdiet sed est. Aliquam a quam condimentum...</td>\n      <td>99.909094</td>\n      <td>b'(\\xdfc\\xb7\\xccWC\\xcb\\x97R\\xfa\\xe6\\x9d\\x16S\\xda'</td>\n    </tr>\n    <tr>\n      <th>...</th>\n      <td>...</td>\n      <td>...</td>\n      <td>...</td>\n      <td>...</td>\n      <td>...</td>\n      <td>...</td>\n    </tr>\n    <tr>\n      <th>995</th>\n      <td>1924-04-12 00:00:00.003</td>\n      <td>{'org.apache.cassandra.db.marshal.UUIDType': b...</td>\n      <td>1970-01-01 00:00:00.003</td>\n      <td>ulum vehicula euismod purus ac tempus. Nam mol...</td>\n      <td>105.890743</td>\n      <td>b'(\\xdfc\\xb7\\xccWC\\xcb\\x97R\\xfa\\xe6\\x9d\\x16S\\xda'</td>\n    </tr>\n    <tr>\n      <th>996</th>\n      <td>1924-04-12 00:00:00.006</td>\n      <td>{'org.apache.cassandra.db.marshal.UUIDType': b...</td>\n      <td>1970-01-01 00:00:00.006</td>\n      <td>rat nibh. Vivamus eu quam id mi gravida porta ...</td>\n      <td>103.857088</td>\n      <td>b'(\\xdfc\\xb7\\xccWC\\xcb\\x97R\\xfa\\xe6\\x9d\\x16S\\xda'</td>\n    </tr>\n    <tr>\n      <th>997</th>\n      <td>1924-04-12 00:00:00.000</td>\n      <td>{'org.apache.cassandra.db.marshal.UUIDType': b...</td>\n      <td>1970-01-01 00:00:00.000</td>\n      <td>pien.\\nDonec sit amet est eu libero malesuada ...</td>\n      <td>95.420393</td>\n      <td>b'(\\xdfc\\xb7\\xccWC\\xcb\\x97R\\xfa\\xe6\\x9d\\x16S\\xda'</td>\n    </tr>\n    <tr>\n      <th>998</th>\n      <td>1924-04-12 00:00:00.001</td>\n      <td>{'org.apache.cassandra.db.marshal.UUIDType': b...</td>\n      <td>1970-01-01 00:00:00.001</td>\n      <td>sem, gravida vitae commodo a, vestibulum plac...</td>\n      <td>103.726586</td>\n      <td>b'(\\xdfc\\xb7\\xccWC\\xcb\\x97R\\xfa\\xe6\\x9d\\x16S\\xda'</td>\n    </tr>\n    <tr>\n      <th>999</th>\n      <td>1924-04-12 00:00:00.000</td>\n      <td>{'org.apache.cassandra.db.marshal.UUIDType': b...</td>\n      <td>1970-01-01 00:00:00.000</td>\n      <td>et odio a dolor placerat bibendum. Praesent au...</td>\n      <td>106.780531</td>\n      <td>b'(\\xdfc\\xb7\\xccWC\\xcb\\x97R\\xfa\\xe6\\x9d\\x16S\\xda'</td>\n    </tr>\n  </tbody>\n</table>\n<p>1000 rows × 6 columns</p>\n</div>"
     },
     "metadata": {},
     "execution_count": 6
    }
   ],
   "source": [
    "buffer = fetch_data()\n",
    "reader = pa.ipc.open_stream(buffer)\n",
    "arrow_table = reader.read_all()\n",
    "arrow_table.to_pandas() # for visualization"
   ]
  },
  {
   "cell_type": "code",
   "execution_count": null,
   "metadata": {},
   "outputs": [],
   "source": []
  }
 ]
}