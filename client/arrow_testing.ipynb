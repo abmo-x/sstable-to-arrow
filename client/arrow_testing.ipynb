{
 "metadata": {
  "language_info": {
   "codemirror_mode": {
    "name": "ipython",
    "version": 3
   },
   "file_extension": ".py",
   "mimetype": "text/x-python",
   "name": "python",
   "nbconvert_exporter": "python",
   "pygments_lexer": "ipython3",
   "version": 3
  },
  "orig_nbformat": 4
 },
 "nbformat": 4,
 "nbformat_minor": 2,
 "cells": [
  {
   "cell_type": "code",
   "execution_count": null,
   "metadata": {},
   "outputs": [],
   "source": [
    "data = [\n",
    "    pa.array([1, 2, 3, 4]),\n",
    "    pa.array(['foo', 'bar', 'baz', None]),\n",
    "    pa.array([True, None, False, True])\n",
    "]\n",
    "batch = pa.record_batch(data, names=['f0int', 'f1str', 'f2bool'])\n",
    "print(batch)\n",
    "\n",
    "sink = pa.BufferOutputStream()\n",
    "\n",
    "writer = pa.ipc.new_stream(sink, batch.schema)\n",
    "writer.write_batch(batch)\n",
    "writer.close()\n",
    "\n",
    "buf = sink.getvalue()\n",
    "\n",
    "with pa.output_stream('record_batch.dat') as ostream:\n",
    "    ostream.write(buf)"
   ]
  },
  {
   "cell_type": "code",
   "execution_count": null,
   "metadata": {},
   "outputs": [],
   "source": [
    "# creates a MemoryMappedFile\n",
    "# constructs buffer that references mapped memory without allocation or copying\n",
    "# better than OSFile\n",
    "with pa.memory_map('java_arrow.dat') as mmap:\n",
    "    data = mmap.read()"
   ]
  }
 ]
}