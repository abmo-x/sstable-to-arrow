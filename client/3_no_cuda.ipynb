{
 "metadata": {
  "language_info": {
   "codemirror_mode": {
    "name": "ipython",
    "version": 3
   },
   "file_extension": ".py",
   "mimetype": "text/x-python",
   "name": "python",
   "nbconvert_exporter": "python",
   "pygments_lexer": "ipython3",
   "version": "3.9.4"
  },
  "orig_nbformat": 4,
  "kernelspec": {
   "name": "python3",
   "display_name": "Python 3.9.4 64-bit ('arrow_sstable': conda)"
  },
  "interpreter": {
   "hash": "11e14a7450b1aa7dac7c67def91465b11df4befdfc2edcec9501702ae1b0749a"
  }
 },
 "nbformat": 4,
 "nbformat_minor": 2,
 "cells": [
  {
   "source": [
    "# 3. Cassandra to Arrow\n",
    "\n",
    "We use some code from the Cassandra server to read the SSTable, but instead of de/serializing to/from CQL, we use an [Arrow IPC stream](http://arrow.apache.org/), which is stored in a columnar format and better suited for analytics.\n",
    "\n",
    "Data transformations:\n",
    "\n",
    "1. SSTable on disk\n",
    "2. Deserialized into Java Object in C* server\n",
    "3. Client makes request to server (not to C* DB)\n",
    "4. Data serialized via Arrow IPC stream\n",
    "5. Sent across network\n",
    "6. Arrow IPC stream received by client\n",
    "7. Transformed into Arrow Table / cuDF\n",
    "\n",
    "**Pros:**\n",
    "- doesn't make request to the main Cassandra DB, which lessens the load and allows for other operations to run\n",
    "- less de/serialization involved using the Arrow IPC stream\n",
    "\n",
    "**Cons:**\n",
    "- don't want to have to start Cassandra or use the JVM\n",
    "- complex architecture"
   ],
   "cell_type": "markdown",
   "metadata": {}
  },
  {
   "cell_type": "code",
   "execution_count": 1,
   "metadata": {},
   "outputs": [],
   "source": [
    "import pyarrow as pa\n",
    "import pandas as pd\n",
    "import socket\n",
    "\n",
    "HOST = '127.0.0.1'\n",
    "PORT = 9143"
   ]
  },
  {
   "cell_type": "code",
   "execution_count": 2,
   "metadata": {},
   "outputs": [],
   "source": [
    "def read_bytes(sock, n):\n",
    "    data = b''\n",
    "    while len(data) < n:\n",
    "        more = sock.recv(n - len(data))\n",
    "        if not more:\n",
    "            raise EOFError(\"Socket connection ended before reading specified number of bytes\")\n",
    "        data += more\n",
    "    return data\n",
    "\n",
    "def read_u8(sock):\n",
    "    data = read_bytes(sock, 8)\n",
    "    return int.from_bytes(data, byteorder='big')\n",
    "\n",
    "# read data from socket\n",
    "def fetch_data():\n",
    "    with socket.socket(socket.AF_INET, socket.SOCK_STREAM) as sock:\n",
    "        sock.connect((HOST, PORT))\n",
    "        sock.sendall(b'hello world\\n')\n",
    "        num_tables = read_u8(sock)\n",
    "        table_buffers = []\n",
    "        for i in range(num_tables):\n",
    "            print('receiving table', i)\n",
    "            table_size = read_u8(sock)\n",
    "            buf = read_bytes(sock, table_size)\n",
    "            table_buffers.append(buf)\n",
    "    return table_buffers"
   ]
  },
  {
   "cell_type": "code",
   "execution_count": 24,
   "metadata": {},
   "outputs": [
    {
     "output_type": "stream",
     "name": "stdout",
     "text": [
      "receiving table 0\nreceiving table 1\nreceiving table 2\n"
     ]
    },
    {
     "output_type": "execute_result",
     "data": {
      "text/plain": [
       "3"
      ]
     },
     "metadata": {},
     "execution_count": 24
    }
   ],
   "source": [
    "buffers = fetch_data()\n",
    "tables = [pa.ipc.open_stream(buf).read_all() for buf in buffers]\n",
    "len(tables)"
   ]
  },
  {
   "cell_type": "code",
   "execution_count": 25,
   "metadata": {},
   "outputs": [
    {
     "output_type": "execute_result",
     "data": {
      "text/plain": [
       "  partition key                    _ts_row _del_time_row _ttl_row  count  \\\n",
       "0           bar 2021-07-20 19:45:23.434589           NaT      NaT  456.0   \n",
       "1      asdfqwer 2021-07-20 19:12:09.531761           NaT      NaT   30.0   \n",
       "2           foo 2021-07-20 19:45:00.539860           NaT      NaT  123.0   \n",
       "3      emptyrow 2021-07-20 19:45:39.919177           NaT      NaT    NaN   \n",
       "4      testlist 2021-07-20 19:43:40.532672           NaT      NaT    NaN   \n",
       "5      zxcvasdf 2021-07-20 19:12:34.702061           NaT      NaT   26.0   \n",
       "\n",
       "  _ts_count _del_time_count _ttl_count   size _ts_size _del_time_size  \\\n",
       "0       NaT             NaT        NaT   None      NaT            NaT   \n",
       "1       NaT             NaT        NaT    big      NaT            NaT   \n",
       "2       NaT             NaT        NaT  small      NaT            NaT   \n",
       "3       NaT             NaT        NaT   None      NaT            NaT   \n",
       "4       NaT             NaT        NaT   None      NaT            NaT   \n",
       "5       NaT             NaT        NaT    big      NaT            NaT   \n",
       "\n",
       "  _ttl_size         names                                          _ts_names  \\\n",
       "0       NaT          None                                               None   \n",
       "1       NaT          None                                               None   \n",
       "2       NaT   [jane, joe]  [2021-07-20T23:51:22.317024, 2021-07-20T23:51:...   \n",
       "3       NaT          None                                               None   \n",
       "4       NaT  [bob, alice]                                         [NaT, NaT]   \n",
       "5       NaT          None                                               None   \n",
       "\n",
       "  _del_time_names  _ttl_names                               types  \\\n",
       "0            None        None  [cyan, green, red, violet, yellow]   \n",
       "1            None        None                 [blue, orange, red]   \n",
       "2      [NaT, NaT]  [NaT, NaT]                                None   \n",
       "3            None        None                                None   \n",
       "4      [NaT, NaT]  [NaT, NaT]                                None   \n",
       "5            None        None                      [blue, purple]   \n",
       "\n",
       "                                           _ts_types  \\\n",
       "0  [NaT, 2021-07-20T23:50:27.469790, NaT, 2021-07...   \n",
       "1                                    [NaT, NaT, NaT]   \n",
       "2                                               None   \n",
       "3                                               None   \n",
       "4                                               None   \n",
       "5                                         [NaT, NaT]   \n",
       "\n",
       "             _del_time_types                 _ttl_types  \n",
       "0  [NaT, NaT, NaT, NaT, NaT]  [NaT, NaT, NaT, NaT, NaT]  \n",
       "1            [NaT, NaT, NaT]            [NaT, NaT, NaT]  \n",
       "2                       None                       None  \n",
       "3                       None                       None  \n",
       "4                       None                       None  \n",
       "5                 [NaT, NaT]                 [NaT, NaT]  "
      ],
      "text/html": "<div>\n<style scoped>\n    .dataframe tbody tr th:only-of-type {\n        vertical-align: middle;\n    }\n\n    .dataframe tbody tr th {\n        vertical-align: top;\n    }\n\n    .dataframe thead th {\n        text-align: right;\n    }\n</style>\n<table border=\"1\" class=\"dataframe\">\n  <thead>\n    <tr style=\"text-align: right;\">\n      <th></th>\n      <th>partition key</th>\n      <th>_ts_row</th>\n      <th>_del_time_row</th>\n      <th>_ttl_row</th>\n      <th>count</th>\n      <th>_ts_count</th>\n      <th>_del_time_count</th>\n      <th>_ttl_count</th>\n      <th>size</th>\n      <th>_ts_size</th>\n      <th>_del_time_size</th>\n      <th>_ttl_size</th>\n      <th>names</th>\n      <th>_ts_names</th>\n      <th>_del_time_names</th>\n      <th>_ttl_names</th>\n      <th>types</th>\n      <th>_ts_types</th>\n      <th>_del_time_types</th>\n      <th>_ttl_types</th>\n    </tr>\n  </thead>\n  <tbody>\n    <tr>\n      <th>0</th>\n      <td>bar</td>\n      <td>2021-07-20 19:45:23.434589</td>\n      <td>NaT</td>\n      <td>NaT</td>\n      <td>456.0</td>\n      <td>NaT</td>\n      <td>NaT</td>\n      <td>NaT</td>\n      <td>None</td>\n      <td>NaT</td>\n      <td>NaT</td>\n      <td>NaT</td>\n      <td>None</td>\n      <td>None</td>\n      <td>None</td>\n      <td>None</td>\n      <td>[cyan, green, red, violet, yellow]</td>\n      <td>[NaT, 2021-07-20T23:50:27.469790, NaT, 2021-07...</td>\n      <td>[NaT, NaT, NaT, NaT, NaT]</td>\n      <td>[NaT, NaT, NaT, NaT, NaT]</td>\n    </tr>\n    <tr>\n      <th>1</th>\n      <td>asdfqwer</td>\n      <td>2021-07-20 19:12:09.531761</td>\n      <td>NaT</td>\n      <td>NaT</td>\n      <td>30.0</td>\n      <td>NaT</td>\n      <td>NaT</td>\n      <td>NaT</td>\n      <td>big</td>\n      <td>NaT</td>\n      <td>NaT</td>\n      <td>NaT</td>\n      <td>None</td>\n      <td>None</td>\n      <td>None</td>\n      <td>None</td>\n      <td>[blue, orange, red]</td>\n      <td>[NaT, NaT, NaT]</td>\n      <td>[NaT, NaT, NaT]</td>\n      <td>[NaT, NaT, NaT]</td>\n    </tr>\n    <tr>\n      <th>2</th>\n      <td>foo</td>\n      <td>2021-07-20 19:45:00.539860</td>\n      <td>NaT</td>\n      <td>NaT</td>\n      <td>123.0</td>\n      <td>NaT</td>\n      <td>NaT</td>\n      <td>NaT</td>\n      <td>small</td>\n      <td>NaT</td>\n      <td>NaT</td>\n      <td>NaT</td>\n      <td>[jane, joe]</td>\n      <td>[2021-07-20T23:51:22.317024, 2021-07-20T23:51:...</td>\n      <td>[NaT, NaT]</td>\n      <td>[NaT, NaT]</td>\n      <td>None</td>\n      <td>None</td>\n      <td>None</td>\n      <td>None</td>\n    </tr>\n    <tr>\n      <th>3</th>\n      <td>emptyrow</td>\n      <td>2021-07-20 19:45:39.919177</td>\n      <td>NaT</td>\n      <td>NaT</td>\n      <td>NaN</td>\n      <td>NaT</td>\n      <td>NaT</td>\n      <td>NaT</td>\n      <td>None</td>\n      <td>NaT</td>\n      <td>NaT</td>\n      <td>NaT</td>\n      <td>None</td>\n      <td>None</td>\n      <td>None</td>\n      <td>None</td>\n      <td>None</td>\n      <td>None</td>\n      <td>None</td>\n      <td>None</td>\n    </tr>\n    <tr>\n      <th>4</th>\n      <td>testlist</td>\n      <td>2021-07-20 19:43:40.532672</td>\n      <td>NaT</td>\n      <td>NaT</td>\n      <td>NaN</td>\n      <td>NaT</td>\n      <td>NaT</td>\n      <td>NaT</td>\n      <td>None</td>\n      <td>NaT</td>\n      <td>NaT</td>\n      <td>NaT</td>\n      <td>[bob, alice]</td>\n      <td>[NaT, NaT]</td>\n      <td>[NaT, NaT]</td>\n      <td>[NaT, NaT]</td>\n      <td>None</td>\n      <td>None</td>\n      <td>None</td>\n      <td>None</td>\n    </tr>\n    <tr>\n      <th>5</th>\n      <td>zxcvasdf</td>\n      <td>2021-07-20 19:12:34.702061</td>\n      <td>NaT</td>\n      <td>NaT</td>\n      <td>26.0</td>\n      <td>NaT</td>\n      <td>NaT</td>\n      <td>NaT</td>\n      <td>big</td>\n      <td>NaT</td>\n      <td>NaT</td>\n      <td>NaT</td>\n      <td>None</td>\n      <td>None</td>\n      <td>None</td>\n      <td>None</td>\n      <td>[blue, purple]</td>\n      <td>[NaT, NaT]</td>\n      <td>[NaT, NaT]</td>\n      <td>[NaT, NaT]</td>\n    </tr>\n  </tbody>\n</table>\n</div>"
     },
     "metadata": {},
     "execution_count": 25
    }
   ],
   "source": [
    "tables[0].to_pandas()"
   ]
  },
  {
   "cell_type": "code",
   "execution_count": 26,
   "metadata": {},
   "outputs": [
    {
     "output_type": "execute_result",
     "data": {
      "text/plain": [
       "  partition key                    _ts_row              _del_time_row  \\\n",
       "0          test 2021-07-23 17:19:42.905355 1970-01-01 00:27:07.120782   \n",
       "\n",
       "         _ttl_row  count _ts_count _del_time_count _ttl_count  \n",
       "0 0 days 16:40:00     13       NaT             NaT        NaT  "
      ],
      "text/html": "<div>\n<style scoped>\n    .dataframe tbody tr th:only-of-type {\n        vertical-align: middle;\n    }\n\n    .dataframe tbody tr th {\n        vertical-align: top;\n    }\n\n    .dataframe thead th {\n        text-align: right;\n    }\n</style>\n<table border=\"1\" class=\"dataframe\">\n  <thead>\n    <tr style=\"text-align: right;\">\n      <th></th>\n      <th>partition key</th>\n      <th>_ts_row</th>\n      <th>_del_time_row</th>\n      <th>_ttl_row</th>\n      <th>count</th>\n      <th>_ts_count</th>\n      <th>_del_time_count</th>\n      <th>_ttl_count</th>\n    </tr>\n  </thead>\n  <tbody>\n    <tr>\n      <th>0</th>\n      <td>test</td>\n      <td>2021-07-23 17:19:42.905355</td>\n      <td>1970-01-01 00:27:07.120782</td>\n      <td>0 days 16:40:00</td>\n      <td>13</td>\n      <td>NaT</td>\n      <td>NaT</td>\n      <td>NaT</td>\n    </tr>\n  </tbody>\n</table>\n</div>"
     },
     "metadata": {},
     "execution_count": 26
    }
   ],
   "source": [
    "tables[1].to_pandas()"
   ]
  },
  {
   "cell_type": "code",
   "execution_count": 27,
   "metadata": {},
   "outputs": [
    {
     "output_type": "execute_result",
     "data": {
      "text/plain": [
       "  partition key                    _ts_row              _del_time_row _ttl_row\n",
       "0      testlist 2021-07-23 17:23:42.355027 1970-01-01 00:27:07.061022      NaT"
      ],
      "text/html": "<div>\n<style scoped>\n    .dataframe tbody tr th:only-of-type {\n        vertical-align: middle;\n    }\n\n    .dataframe tbody tr th {\n        vertical-align: top;\n    }\n\n    .dataframe thead th {\n        text-align: right;\n    }\n</style>\n<table border=\"1\" class=\"dataframe\">\n  <thead>\n    <tr style=\"text-align: right;\">\n      <th></th>\n      <th>partition key</th>\n      <th>_ts_row</th>\n      <th>_del_time_row</th>\n      <th>_ttl_row</th>\n    </tr>\n  </thead>\n  <tbody>\n    <tr>\n      <th>0</th>\n      <td>testlist</td>\n      <td>2021-07-23 17:23:42.355027</td>\n      <td>1970-01-01 00:27:07.061022</td>\n      <td>NaT</td>\n    </tr>\n  </tbody>\n</table>\n</div>"
     },
     "metadata": {},
     "execution_count": 27
    }
   ],
   "source": [
    "tables[2].to_pandas()"
   ]
  },
  {
   "cell_type": "code",
   "execution_count": null,
   "metadata": {},
   "outputs": [],
   "source": []
  }
 ]
}