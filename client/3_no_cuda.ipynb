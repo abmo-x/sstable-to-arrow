{
 "metadata": {
  "language_info": {
   "codemirror_mode": {
    "name": "ipython",
    "version": 3
   },
   "file_extension": ".py",
   "mimetype": "text/x-python",
   "name": "python",
   "nbconvert_exporter": "python",
   "pygments_lexer": "ipython3",
   "version": "3.9.4"
  },
  "orig_nbformat": 4,
  "kernelspec": {
   "name": "python3",
   "display_name": "Python 3.9.4 64-bit ('arrow_sstable': conda)"
  },
  "interpreter": {
   "hash": "11e14a7450b1aa7dac7c67def91465b11df4befdfc2edcec9501702ae1b0749a"
  }
 },
 "nbformat": 4,
 "nbformat_minor": 2,
 "cells": [
  {
   "source": [
    "# 3. Cassandra to Arrow\n",
    "\n",
    "We use some code from the Cassandra server to read the SSTable, but instead of de/serializing to/from CQL, we use an [Arrow IPC stream](http://arrow.apache.org/), which is stored in a columnar format and better suited for analytics.\n",
    "\n",
    "Data transformations:\n",
    "\n",
    "1. SSTable on disk\n",
    "2. Deserialized into Java Object in C* server\n",
    "3. Client makes request to server (not to C* DB)\n",
    "4. Data serialized via Arrow IPC stream\n",
    "5. Sent across network\n",
    "6. Arrow IPC stream received by client\n",
    "7. Transformed into Arrow Table / cuDF\n",
    "\n",
    "**Pros:**\n",
    "- doesn't make request to the main Cassandra DB, which lessens the load and allows for other operations to run\n",
    "- less de/serialization involved using the Arrow IPC stream\n",
    "\n",
    "**Cons:**\n",
    "- don't want to have to start Cassandra or use the JVM\n",
    "- complex architecture"
   ],
   "cell_type": "markdown",
   "metadata": {}
  },
  {
   "cell_type": "code",
   "execution_count": 4,
   "metadata": {},
   "outputs": [],
   "source": [
    "import pyarrow as pa\n",
    "import pandas as pd\n",
    "import socket\n",
    "\n",
    "HOST = '127.0.0.1'\n",
    "PORT = 9143"
   ]
  },
  {
   "cell_type": "code",
   "execution_count": 5,
   "metadata": {},
   "outputs": [],
   "source": [
    "def read_bytes(sock, n):\n",
    "    data = b''\n",
    "    while len(data) < n:\n",
    "        more = sock.recv(n - len(data))\n",
    "        if not more:\n",
    "            raise EOFError(\"Socket connection ended before reading specified number of bytes\")\n",
    "        data += more\n",
    "    return data\n",
    "\n",
    "def read_u8(sock):\n",
    "    data = read_bytes(sock, 8)\n",
    "    return int.from_bytes(data, byteorder='big')\n",
    "\n",
    "# read data from socket\n",
    "def fetch_data():\n",
    "    with socket.socket(socket.AF_INET, socket.SOCK_STREAM) as sock:\n",
    "        sock.connect((HOST, PORT))\n",
    "        sock.sendall(b'hello world\\n')\n",
    "        num_tables = read_u8(sock)\n",
    "        table_buffers = []\n",
    "        for i in range(num_tables):\n",
    "            print('receiving table', i)\n",
    "            table_size = read_u8(sock)\n",
    "            buf = read_bytes(sock, table_size)\n",
    "            table_buffers.append(buf)\n",
    "    return table_buffers"
   ]
  },
  {
   "cell_type": "code",
   "execution_count": 47,
   "metadata": {},
   "outputs": [
    {
     "output_type": "stream",
     "name": "stdout",
     "text": [
      "receiving table 0\n"
     ]
    },
    {
     "output_type": "execute_result",
     "data": {
      "text/plain": [
       "1"
      ]
     },
     "metadata": {},
     "execution_count": 47
    }
   ],
   "source": [
    "buffers = fetch_data()\n",
    "tables = [pa.ipc.open_stream(buf).read_all() for buf in buffers]\n",
    "len(tables)"
   ]
  },
  {
   "cell_type": "code",
   "execution_count": 48,
   "metadata": {},
   "outputs": [
    {
     "output_type": "execute_result",
     "data": {
      "text/plain": [
       "                                          partition_key  \\\n",
       "0     {'org.apache.cassandra.db.marshal.UUIDType': b...   \n",
       "1     {'org.apache.cassandra.db.marshal.UUIDType': b...   \n",
       "2     {'org.apache.cassandra.db.marshal.UUIDType': b...   \n",
       "3     {'org.apache.cassandra.db.marshal.UUIDType': b...   \n",
       "4     {'org.apache.cassandra.db.marshal.UUIDType': b...   \n",
       "...                                                 ...   \n",
       "4995  {'org.apache.cassandra.db.marshal.UUIDType': b...   \n",
       "4996  {'org.apache.cassandra.db.marshal.UUIDType': b...   \n",
       "4997  {'org.apache.cassandra.db.marshal.UUIDType': b...   \n",
       "4998  {'org.apache.cassandra.db.marshal.UUIDType': b...   \n",
       "4999  {'org.apache.cassandra.db.marshal.UUIDType': b...   \n",
       "\n",
       "            _ts_row_liveness _del_time_row_liveness _ttl_row_liveness  \\\n",
       "0    1970-01-01 00:00:00.042                    NaT               NaT   \n",
       "1    1970-01-01 00:00:00.002                    NaT               NaT   \n",
       "2    1970-01-01 00:00:00.041                    NaT               NaT   \n",
       "3    1970-01-01 00:00:00.025                    NaT               NaT   \n",
       "4    1970-01-01 00:00:00.009                    NaT               NaT   \n",
       "...                      ...                    ...               ...   \n",
       "4995 1970-01-01 00:00:00.018                    NaT               NaT   \n",
       "4996 1970-01-01 00:00:00.000                    NaT               NaT   \n",
       "4997 1970-01-01 00:00:00.031                    NaT               NaT   \n",
       "4998 1970-01-01 00:00:00.014                    NaT               NaT   \n",
       "4999 1970-01-01 00:00:00.029                    NaT               NaT   \n",
       "\n",
       "     _local_del_time_partition _marked_for_del_at_partition  \\\n",
       "0                          NaT                          NaT   \n",
       "1                          NaT                          NaT   \n",
       "2                          NaT                          NaT   \n",
       "3                          NaT                          NaT   \n",
       "4                          NaT                          NaT   \n",
       "...                        ...                          ...   \n",
       "4995                       NaT                          NaT   \n",
       "4996                       NaT                          NaT   \n",
       "4997                       NaT                          NaT   \n",
       "4998                       NaT                          NaT   \n",
       "4999                       NaT                          NaT   \n",
       "\n",
       "     _local_del_time_row _marked_for_delete_at_row        clustering_key_0  \\\n",
       "0                    NaT                       NaT 1970-01-01 00:00:00.042   \n",
       "1                    NaT                       NaT 1970-01-01 00:00:00.002   \n",
       "2                    NaT                       NaT 1970-01-01 00:00:00.041   \n",
       "3                    NaT                       NaT 1970-01-01 00:00:00.025   \n",
       "4                    NaT                       NaT 1970-01-01 00:00:00.009   \n",
       "...                  ...                       ...                     ...   \n",
       "4995                 NaT                       NaT 1970-01-01 00:00:00.018   \n",
       "4996                 NaT                       NaT 1970-01-01 00:00:00.000   \n",
       "4997                 NaT                       NaT 1970-01-01 00:00:00.031   \n",
       "4998                 NaT                       NaT 1970-01-01 00:00:00.014   \n",
       "4999                 NaT                       NaT 1970-01-01 00:00:00.029   \n",
       "\n",
       "                                                   data  ... _del_time_data  \\\n",
       "0     ollis quis risus sit amet venenatis. Suspendis...  ...            NaT   \n",
       "1     ue sapien et, fermentum neque. Pellentesque mo...  ...            NaT   \n",
       "2      Ut suscipit sem vel orci venenatis, a rutrum ...  ...            NaT   \n",
       "3     tortor hendrerit, nec ultricies dui vestibulum...  ...            NaT   \n",
       "4     ctus mauris nec urna. Duis sit amet enim trist...  ...            NaT   \n",
       "...                                                 ...  ...            ...   \n",
       "4995  mi non consectetur pretium, diam augue maximus...  ...            NaT   \n",
       "4996  et odio a dolor placerat bibendum. Praesent au...  ...            NaT   \n",
       "4997  . Mauris vestibulum leo eu nunc commodo, at te...  ...            NaT   \n",
       "4998  o, sollicitudin eget iaculis vitae, dapibus eu...  ...            NaT   \n",
       "4999   pellentesque. Maecenas in est a elit vulputat...  ...            NaT   \n",
       "\n",
       "     _ttl_data sensor_value  _ts_sensor_value _del_time_sensor_value  \\\n",
       "0          NaT    94.353640               NaT                    NaT   \n",
       "1          NaT    95.759791               NaT                    NaT   \n",
       "2          NaT    86.207276               NaT                    NaT   \n",
       "3          NaT    97.209750               NaT                    NaT   \n",
       "4          NaT   106.497951               NaT                    NaT   \n",
       "...        ...          ...               ...                    ...   \n",
       "4995       NaT   107.025525               NaT                    NaT   \n",
       "4996       NaT   106.780531               NaT                    NaT   \n",
       "4997       NaT   100.584490               NaT                    NaT   \n",
       "4998       NaT    99.889286               NaT                    NaT   \n",
       "4999       NaT   105.099324               NaT                    NaT   \n",
       "\n",
       "     _ttl_sensor_value                                         station_id  \\\n",
       "0                  NaT  b'(\\xdfc\\xb7\\xccWC\\xcb\\x97R\\xfa\\xe6\\x9d\\x16S\\xda'   \n",
       "1                  NaT  b'(\\xdfc\\xb7\\xccWC\\xcb\\x97R\\xfa\\xe6\\x9d\\x16S\\xda'   \n",
       "2                  NaT  b'(\\xdfc\\xb7\\xccWC\\xcb\\x97R\\xfa\\xe6\\x9d\\x16S\\xda'   \n",
       "3                  NaT  b'(\\xdfc\\xb7\\xccWC\\xcb\\x97R\\xfa\\xe6\\x9d\\x16S\\xda'   \n",
       "4                  NaT  b'(\\xdfc\\xb7\\xccWC\\xcb\\x97R\\xfa\\xe6\\x9d\\x16S\\xda'   \n",
       "...                ...                                                ...   \n",
       "4995               NaT  b'(\\xdfc\\xb7\\xccWC\\xcb\\x97R\\xfa\\xe6\\x9d\\x16S\\xda'   \n",
       "4996               NaT  b'(\\xdfc\\xb7\\xccWC\\xcb\\x97R\\xfa\\xe6\\x9d\\x16S\\xda'   \n",
       "4997               NaT  b'(\\xdfc\\xb7\\xccWC\\xcb\\x97R\\xfa\\xe6\\x9d\\x16S\\xda'   \n",
       "4998               NaT  b'(\\xdfc\\xb7\\xccWC\\xcb\\x97R\\xfa\\xe6\\x9d\\x16S\\xda'   \n",
       "4999               NaT  b'(\\xdfc\\xb7\\xccWC\\xcb\\x97R\\xfa\\xe6\\x9d\\x16S\\xda'   \n",
       "\n",
       "     _ts_station_id _del_time_station_id _ttl_station_id  \n",
       "0               NaT                  NaT             NaT  \n",
       "1               NaT                  NaT             NaT  \n",
       "2               NaT                  NaT             NaT  \n",
       "3               NaT                  NaT             NaT  \n",
       "4               NaT                  NaT             NaT  \n",
       "...             ...                  ...             ...  \n",
       "4995            NaT                  NaT             NaT  \n",
       "4996            NaT                  NaT             NaT  \n",
       "4997            NaT                  NaT             NaT  \n",
       "4998            NaT                  NaT             NaT  \n",
       "4999            NaT                  NaT             NaT  \n",
       "\n",
       "[5000 rows x 21 columns]"
      ],
      "text/html": "<div>\n<style scoped>\n    .dataframe tbody tr th:only-of-type {\n        vertical-align: middle;\n    }\n\n    .dataframe tbody tr th {\n        vertical-align: top;\n    }\n\n    .dataframe thead th {\n        text-align: right;\n    }\n</style>\n<table border=\"1\" class=\"dataframe\">\n  <thead>\n    <tr style=\"text-align: right;\">\n      <th></th>\n      <th>partition_key</th>\n      <th>_ts_row_liveness</th>\n      <th>_del_time_row_liveness</th>\n      <th>_ttl_row_liveness</th>\n      <th>_local_del_time_partition</th>\n      <th>_marked_for_del_at_partition</th>\n      <th>_local_del_time_row</th>\n      <th>_marked_for_delete_at_row</th>\n      <th>clustering_key_0</th>\n      <th>data</th>\n      <th>...</th>\n      <th>_del_time_data</th>\n      <th>_ttl_data</th>\n      <th>sensor_value</th>\n      <th>_ts_sensor_value</th>\n      <th>_del_time_sensor_value</th>\n      <th>_ttl_sensor_value</th>\n      <th>station_id</th>\n      <th>_ts_station_id</th>\n      <th>_del_time_station_id</th>\n      <th>_ttl_station_id</th>\n    </tr>\n  </thead>\n  <tbody>\n    <tr>\n      <th>0</th>\n      <td>{'org.apache.cassandra.db.marshal.UUIDType': b...</td>\n      <td>1970-01-01 00:00:00.042</td>\n      <td>NaT</td>\n      <td>NaT</td>\n      <td>NaT</td>\n      <td>NaT</td>\n      <td>NaT</td>\n      <td>NaT</td>\n      <td>1970-01-01 00:00:00.042</td>\n      <td>ollis quis risus sit amet venenatis. Suspendis...</td>\n      <td>...</td>\n      <td>NaT</td>\n      <td>NaT</td>\n      <td>94.353640</td>\n      <td>NaT</td>\n      <td>NaT</td>\n      <td>NaT</td>\n      <td>b'(\\xdfc\\xb7\\xccWC\\xcb\\x97R\\xfa\\xe6\\x9d\\x16S\\xda'</td>\n      <td>NaT</td>\n      <td>NaT</td>\n      <td>NaT</td>\n    </tr>\n    <tr>\n      <th>1</th>\n      <td>{'org.apache.cassandra.db.marshal.UUIDType': b...</td>\n      <td>1970-01-01 00:00:00.002</td>\n      <td>NaT</td>\n      <td>NaT</td>\n      <td>NaT</td>\n      <td>NaT</td>\n      <td>NaT</td>\n      <td>NaT</td>\n      <td>1970-01-01 00:00:00.002</td>\n      <td>ue sapien et, fermentum neque. Pellentesque mo...</td>\n      <td>...</td>\n      <td>NaT</td>\n      <td>NaT</td>\n      <td>95.759791</td>\n      <td>NaT</td>\n      <td>NaT</td>\n      <td>NaT</td>\n      <td>b'(\\xdfc\\xb7\\xccWC\\xcb\\x97R\\xfa\\xe6\\x9d\\x16S\\xda'</td>\n      <td>NaT</td>\n      <td>NaT</td>\n      <td>NaT</td>\n    </tr>\n    <tr>\n      <th>2</th>\n      <td>{'org.apache.cassandra.db.marshal.UUIDType': b...</td>\n      <td>1970-01-01 00:00:00.041</td>\n      <td>NaT</td>\n      <td>NaT</td>\n      <td>NaT</td>\n      <td>NaT</td>\n      <td>NaT</td>\n      <td>NaT</td>\n      <td>1970-01-01 00:00:00.041</td>\n      <td>Ut suscipit sem vel orci venenatis, a rutrum ...</td>\n      <td>...</td>\n      <td>NaT</td>\n      <td>NaT</td>\n      <td>86.207276</td>\n      <td>NaT</td>\n      <td>NaT</td>\n      <td>NaT</td>\n      <td>b'(\\xdfc\\xb7\\xccWC\\xcb\\x97R\\xfa\\xe6\\x9d\\x16S\\xda'</td>\n      <td>NaT</td>\n      <td>NaT</td>\n      <td>NaT</td>\n    </tr>\n    <tr>\n      <th>3</th>\n      <td>{'org.apache.cassandra.db.marshal.UUIDType': b...</td>\n      <td>1970-01-01 00:00:00.025</td>\n      <td>NaT</td>\n      <td>NaT</td>\n      <td>NaT</td>\n      <td>NaT</td>\n      <td>NaT</td>\n      <td>NaT</td>\n      <td>1970-01-01 00:00:00.025</td>\n      <td>tortor hendrerit, nec ultricies dui vestibulum...</td>\n      <td>...</td>\n      <td>NaT</td>\n      <td>NaT</td>\n      <td>97.209750</td>\n      <td>NaT</td>\n      <td>NaT</td>\n      <td>NaT</td>\n      <td>b'(\\xdfc\\xb7\\xccWC\\xcb\\x97R\\xfa\\xe6\\x9d\\x16S\\xda'</td>\n      <td>NaT</td>\n      <td>NaT</td>\n      <td>NaT</td>\n    </tr>\n    <tr>\n      <th>4</th>\n      <td>{'org.apache.cassandra.db.marshal.UUIDType': b...</td>\n      <td>1970-01-01 00:00:00.009</td>\n      <td>NaT</td>\n      <td>NaT</td>\n      <td>NaT</td>\n      <td>NaT</td>\n      <td>NaT</td>\n      <td>NaT</td>\n      <td>1970-01-01 00:00:00.009</td>\n      <td>ctus mauris nec urna. Duis sit amet enim trist...</td>\n      <td>...</td>\n      <td>NaT</td>\n      <td>NaT</td>\n      <td>106.497951</td>\n      <td>NaT</td>\n      <td>NaT</td>\n      <td>NaT</td>\n      <td>b'(\\xdfc\\xb7\\xccWC\\xcb\\x97R\\xfa\\xe6\\x9d\\x16S\\xda'</td>\n      <td>NaT</td>\n      <td>NaT</td>\n      <td>NaT</td>\n    </tr>\n    <tr>\n      <th>...</th>\n      <td>...</td>\n      <td>...</td>\n      <td>...</td>\n      <td>...</td>\n      <td>...</td>\n      <td>...</td>\n      <td>...</td>\n      <td>...</td>\n      <td>...</td>\n      <td>...</td>\n      <td>...</td>\n      <td>...</td>\n      <td>...</td>\n      <td>...</td>\n      <td>...</td>\n      <td>...</td>\n      <td>...</td>\n      <td>...</td>\n      <td>...</td>\n      <td>...</td>\n      <td>...</td>\n    </tr>\n    <tr>\n      <th>4995</th>\n      <td>{'org.apache.cassandra.db.marshal.UUIDType': b...</td>\n      <td>1970-01-01 00:00:00.018</td>\n      <td>NaT</td>\n      <td>NaT</td>\n      <td>NaT</td>\n      <td>NaT</td>\n      <td>NaT</td>\n      <td>NaT</td>\n      <td>1970-01-01 00:00:00.018</td>\n      <td>mi non consectetur pretium, diam augue maximus...</td>\n      <td>...</td>\n      <td>NaT</td>\n      <td>NaT</td>\n      <td>107.025525</td>\n      <td>NaT</td>\n      <td>NaT</td>\n      <td>NaT</td>\n      <td>b'(\\xdfc\\xb7\\xccWC\\xcb\\x97R\\xfa\\xe6\\x9d\\x16S\\xda'</td>\n      <td>NaT</td>\n      <td>NaT</td>\n      <td>NaT</td>\n    </tr>\n    <tr>\n      <th>4996</th>\n      <td>{'org.apache.cassandra.db.marshal.UUIDType': b...</td>\n      <td>1970-01-01 00:00:00.000</td>\n      <td>NaT</td>\n      <td>NaT</td>\n      <td>NaT</td>\n      <td>NaT</td>\n      <td>NaT</td>\n      <td>NaT</td>\n      <td>1970-01-01 00:00:00.000</td>\n      <td>et odio a dolor placerat bibendum. Praesent au...</td>\n      <td>...</td>\n      <td>NaT</td>\n      <td>NaT</td>\n      <td>106.780531</td>\n      <td>NaT</td>\n      <td>NaT</td>\n      <td>NaT</td>\n      <td>b'(\\xdfc\\xb7\\xccWC\\xcb\\x97R\\xfa\\xe6\\x9d\\x16S\\xda'</td>\n      <td>NaT</td>\n      <td>NaT</td>\n      <td>NaT</td>\n    </tr>\n    <tr>\n      <th>4997</th>\n      <td>{'org.apache.cassandra.db.marshal.UUIDType': b...</td>\n      <td>1970-01-01 00:00:00.031</td>\n      <td>NaT</td>\n      <td>NaT</td>\n      <td>NaT</td>\n      <td>NaT</td>\n      <td>NaT</td>\n      <td>NaT</td>\n      <td>1970-01-01 00:00:00.031</td>\n      <td>. Mauris vestibulum leo eu nunc commodo, at te...</td>\n      <td>...</td>\n      <td>NaT</td>\n      <td>NaT</td>\n      <td>100.584490</td>\n      <td>NaT</td>\n      <td>NaT</td>\n      <td>NaT</td>\n      <td>b'(\\xdfc\\xb7\\xccWC\\xcb\\x97R\\xfa\\xe6\\x9d\\x16S\\xda'</td>\n      <td>NaT</td>\n      <td>NaT</td>\n      <td>NaT</td>\n    </tr>\n    <tr>\n      <th>4998</th>\n      <td>{'org.apache.cassandra.db.marshal.UUIDType': b...</td>\n      <td>1970-01-01 00:00:00.014</td>\n      <td>NaT</td>\n      <td>NaT</td>\n      <td>NaT</td>\n      <td>NaT</td>\n      <td>NaT</td>\n      <td>NaT</td>\n      <td>1970-01-01 00:00:00.014</td>\n      <td>o, sollicitudin eget iaculis vitae, dapibus eu...</td>\n      <td>...</td>\n      <td>NaT</td>\n      <td>NaT</td>\n      <td>99.889286</td>\n      <td>NaT</td>\n      <td>NaT</td>\n      <td>NaT</td>\n      <td>b'(\\xdfc\\xb7\\xccWC\\xcb\\x97R\\xfa\\xe6\\x9d\\x16S\\xda'</td>\n      <td>NaT</td>\n      <td>NaT</td>\n      <td>NaT</td>\n    </tr>\n    <tr>\n      <th>4999</th>\n      <td>{'org.apache.cassandra.db.marshal.UUIDType': b...</td>\n      <td>1970-01-01 00:00:00.029</td>\n      <td>NaT</td>\n      <td>NaT</td>\n      <td>NaT</td>\n      <td>NaT</td>\n      <td>NaT</td>\n      <td>NaT</td>\n      <td>1970-01-01 00:00:00.029</td>\n      <td>pellentesque. Maecenas in est a elit vulputat...</td>\n      <td>...</td>\n      <td>NaT</td>\n      <td>NaT</td>\n      <td>105.099324</td>\n      <td>NaT</td>\n      <td>NaT</td>\n      <td>NaT</td>\n      <td>b'(\\xdfc\\xb7\\xccWC\\xcb\\x97R\\xfa\\xe6\\x9d\\x16S\\xda'</td>\n      <td>NaT</td>\n      <td>NaT</td>\n      <td>NaT</td>\n    </tr>\n  </tbody>\n</table>\n<p>5000 rows × 21 columns</p>\n</div>"
     },
     "metadata": {},
     "execution_count": 48
    }
   ],
   "source": [
    "tables[0].to_pandas()"
   ]
  },
  {
   "cell_type": "code",
   "execution_count": 45,
   "metadata": {},
   "outputs": [
    {
     "output_type": "execute_result",
     "data": {
      "text/plain": [
       "  partition_key           _ts_row_liveness     _del_time_row_liveness  \\\n",
       "0          test 2021-07-23 17:19:42.905355 1970-01-01 00:27:07.120782   \n",
       "\n",
       "  _ttl_row_liveness _local_del_time_partition _marked_for_del_at_partition  \\\n",
       "0   0 days 16:40:00                       NaT                          NaT   \n",
       "\n",
       "  _local_del_time_row _marked_for_delete_at_row  count _ts_count  \\\n",
       "0                 NaT                       NaT     13       NaT   \n",
       "\n",
       "  _del_time_count _ttl_count  \n",
       "0             NaT        NaT  "
      ],
      "text/html": "<div>\n<style scoped>\n    .dataframe tbody tr th:only-of-type {\n        vertical-align: middle;\n    }\n\n    .dataframe tbody tr th {\n        vertical-align: top;\n    }\n\n    .dataframe thead th {\n        text-align: right;\n    }\n</style>\n<table border=\"1\" class=\"dataframe\">\n  <thead>\n    <tr style=\"text-align: right;\">\n      <th></th>\n      <th>partition_key</th>\n      <th>_ts_row_liveness</th>\n      <th>_del_time_row_liveness</th>\n      <th>_ttl_row_liveness</th>\n      <th>_local_del_time_partition</th>\n      <th>_marked_for_del_at_partition</th>\n      <th>_local_del_time_row</th>\n      <th>_marked_for_delete_at_row</th>\n      <th>count</th>\n      <th>_ts_count</th>\n      <th>_del_time_count</th>\n      <th>_ttl_count</th>\n    </tr>\n  </thead>\n  <tbody>\n    <tr>\n      <th>0</th>\n      <td>test</td>\n      <td>2021-07-23 17:19:42.905355</td>\n      <td>1970-01-01 00:27:07.120782</td>\n      <td>0 days 16:40:00</td>\n      <td>NaT</td>\n      <td>NaT</td>\n      <td>NaT</td>\n      <td>NaT</td>\n      <td>13</td>\n      <td>NaT</td>\n      <td>NaT</td>\n      <td>NaT</td>\n    </tr>\n  </tbody>\n</table>\n</div>"
     },
     "metadata": {},
     "execution_count": 45
    }
   ],
   "source": [
    "tables[1].to_pandas()"
   ]
  },
  {
   "cell_type": "code",
   "execution_count": 46,
   "metadata": {},
   "outputs": [
    {
     "output_type": "execute_result",
     "data": {
      "text/plain": [
       "  partition_key _ts_row_liveness _del_time_row_liveness _ttl_row_liveness  \\\n",
       "0      testlist              NaT                    NaT               NaT   \n",
       "\n",
       "  _local_del_time_partition _marked_for_del_at_partition _local_del_time_row  \\\n",
       "0       2021-07-23 17:23:42   2021-07-23 17:23:42.355027                 NaT   \n",
       "\n",
       "  _marked_for_delete_at_row  \n",
       "0                       NaT  "
      ],
      "text/html": "<div>\n<style scoped>\n    .dataframe tbody tr th:only-of-type {\n        vertical-align: middle;\n    }\n\n    .dataframe tbody tr th {\n        vertical-align: top;\n    }\n\n    .dataframe thead th {\n        text-align: right;\n    }\n</style>\n<table border=\"1\" class=\"dataframe\">\n  <thead>\n    <tr style=\"text-align: right;\">\n      <th></th>\n      <th>partition_key</th>\n      <th>_ts_row_liveness</th>\n      <th>_del_time_row_liveness</th>\n      <th>_ttl_row_liveness</th>\n      <th>_local_del_time_partition</th>\n      <th>_marked_for_del_at_partition</th>\n      <th>_local_del_time_row</th>\n      <th>_marked_for_delete_at_row</th>\n    </tr>\n  </thead>\n  <tbody>\n    <tr>\n      <th>0</th>\n      <td>testlist</td>\n      <td>NaT</td>\n      <td>NaT</td>\n      <td>NaT</td>\n      <td>2021-07-23 17:23:42</td>\n      <td>2021-07-23 17:23:42.355027</td>\n      <td>NaT</td>\n      <td>NaT</td>\n    </tr>\n  </tbody>\n</table>\n</div>"
     },
     "metadata": {},
     "execution_count": 46
    }
   ],
   "source": [
    "tables[2].to_pandas()"
   ]
  },
  {
   "cell_type": "code",
   "execution_count": null,
   "metadata": {},
   "outputs": [],
   "source": []
  }
 ]
}