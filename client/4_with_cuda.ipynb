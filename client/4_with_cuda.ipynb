{
 "metadata": {
  "language_info": {
   "codemirror_mode": {
    "name": "ipython",
    "version": 3
   },
   "file_extension": ".py",
   "mimetype": "text/x-python",
   "name": "python",
   "nbconvert_exporter": "python",
   "pygments_lexer": "ipython3",
   "version": "3.7.10"
  },
  "orig_nbformat": 4,
  "kernelspec": {
   "name": "python3",
   "display_name": "Python 3.7.10 64-bit ('rapids_with_arrow': conda)"
  },
  "interpreter": {
   "hash": "2c73dd0ae14afc1ef618c4915208f8f2067654c218b21f642e628895c648e596"
  }
 },
 "nbformat": 4,
 "nbformat_minor": 2,
 "cells": [
  {
   "cell_type": "markdown",
   "source": [
    "# 4. SSTable to Arrow\n"
   ],
   "metadata": {}
  },
  {
   "cell_type": "code",
   "execution_count": null,
   "source": [
    "import pyarrow as pa\n",
    "import pandas as pd\n",
    "import cudf\n",
    "from blazingsql import BlazingContext\n",
    "from utils import fetch_data"
   ],
   "outputs": [],
   "metadata": {}
  },
  {
   "cell_type": "code",
   "execution_count": null,
   "source": [
    "# read data (run this cell once sstable-to-arrow is listening on port 9143)\n",
    "buffers = fetch_data()\n",
    "tables = [pa.ipc.open_stream(buf).read_all() for buf in buffers]"
   ],
   "outputs": [],
   "metadata": {}
  },
  {
   "cell_type": "markdown",
   "source": [
    "# Demo of cuML using the iris dataset"
   ],
   "metadata": {}
  },
  {
   "cell_type": "code",
   "execution_count": null,
   "source": [
    "cdf = cudf.DataFrame.from_arrow(tables[0])\n",
    "cdf = cdf.rename(columns={\n",
    "    'partition_key': 'sepal_length',\n",
    "    'clustering_key_0': 'sepal_width',\n",
    "    'clustering_key_1': 'petal_length',\n",
    "    'clustering_key_2': 'petal_width',\n",
    "    'clustering_key_3': 'species'\n",
    "})\n",
    "cdf.head()"
   ],
   "outputs": [],
   "metadata": {}
  },
  {
   "cell_type": "code",
   "execution_count": null,
   "source": [
    "import numpy as np\n",
    "import matplotlib.pyplot as plt\n",
    "# from sklearn.linear_model import LogisticRegression\n",
    "from cuml.linear_model import LogisticRegression\n",
    "\n",
    "X = cdf.iloc[:, :2]  # we only take the first two features.\n",
    "Y = cdf.iloc[:, 4]\n",
    "\n",
    "# Create an instance of Logistic Regression Classifier and fit the data.\n",
    "logreg = LogisticRegression(C=1e5)\n",
    "logreg.fit(X, Y)\n",
    "\n",
    "# Plot the decision boundary. For that, we will assign a color to each\n",
    "# point in the mesh [x_min, x_max]x[y_min, y_max].\n",
    "x_min, x_max = X.iloc[:, 0].min() - .5, X.iloc[:, 0].max() + .5\n",
    "y_min, y_max = X.iloc[:, 1].min() - .5, X.iloc[:, 1].max() + .5\n",
    "h = .02  # step size in the mesh\n",
    "xx, yy = np.meshgrid(np.arange(x_min, x_max, h), np.arange(y_min, y_max, h))\n",
    "Z = logreg.predict(np.c_[xx.ravel(), yy.ravel()])\n",
    "\n",
    "# Put the result into a color plot\n",
    "Z = Z.reshape(xx.shape)\n",
    "plt.figure(1, figsize=(4, 3))\n",
    "plt.pcolormesh(xx, yy, Z, cmap=plt.cm.Paired)\n",
    "\n",
    "# Plot also the training points\n",
    "plt.scatter(X.iloc[:, 0].to_array(), X.iloc[:, 1].to_array(), c=Y.to_array(), edgecolors='k', cmap=plt.cm.Paired)\n",
    "plt.xlabel('Sepal length')\n",
    "plt.ylabel('Sepal width')\n",
    "\n",
    "plt.xlim(xx.min(), xx.max())\n",
    "plt.ylim(yy.min(), yy.max())\n",
    "plt.xticks(())\n",
    "plt.yticks(())\n",
    "\n",
    "plt.show()"
   ],
   "outputs": [],
   "metadata": {}
  },
  {
   "cell_type": "markdown",
   "source": [
    "# Deduplicating SSTables"
   ],
   "metadata": {}
  },
  {
   "cell_type": "code",
   "execution_count": null,
   "source": [
    "# visualize tables\n",
    "pd.concat([table.to_pandas() for table in tables])"
   ],
   "outputs": [],
   "metadata": {}
  },
  {
   "cell_type": "code",
   "execution_count": null,
   "source": [
    "bc = BlazingContext()\n",
    "for i, table in enumerate(tables):\n",
    "    new_table = cudf.DataFrame.from_arrow(table.flatten())\n",
    "    bc.create_table(f'sstable_{i}', new_table.rename(columns={'value': 'val'}))"
   ],
   "outputs": [],
   "metadata": {}
  },
  {
   "cell_type": "code",
   "execution_count": null,
   "source": [
    "bc.sql('''\n",
    "SELECT partition_key, val\n",
    "FROM sstable_0\n",
    "WHERE NOT EXISTS\n",
    "(SELECT _local_del_time_partition FROM sstable_2 WHERE sstable_0.partition_key = sstable_2.partition_key)\n",
    "''')"
   ],
   "outputs": [],
   "metadata": {}
  }
 ]
}