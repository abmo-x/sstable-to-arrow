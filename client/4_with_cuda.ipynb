{
 "metadata": {
  "language_info": {
   "codemirror_mode": {
    "name": "ipython",
    "version": 3
   },
   "file_extension": ".py",
   "mimetype": "text/x-python",
   "name": "python",
   "nbconvert_exporter": "python",
   "pygments_lexer": "ipython3",
   "version": "3.8.8"
  },
  "orig_nbformat": 4,
  "kernelspec": {
   "name": "python3",
   "display_name": "Python 3.8.8 64-bit ('base': conda)"
  },
  "interpreter": {
   "hash": "e134e05457d34029b6460cd73bbf1ed73f339b5b6d98c95be70b69eba114fe95"
  }
 },
 "nbformat": 4,
 "nbformat_minor": 2,
 "cells": [
  {
   "source": [
    "# 4. SSTable to Arrow\n",
    "\n",
    "We manually read the SSTables on disk using [Kaitai Struct](https://kaitai.io/) and then send it to the client analytics program through an Arrow IPC stream.\n",
    "\n",
    "Data transformations:\n",
    "\n",
    "1. SSTable on disk\n",
    "2. Deserialized into Kaitai object in C++\n",
    "3. Client makes request to server (not to C* DB)\n",
    "4. Kaitai object serialized via Arrow IPC stream\n",
    "5. Sent across network\n",
    "6. Arrow IPC stream received by client\n",
    "7. Transformed into Arrow Table / cuDF\n",
    "\n",
    "**Pros:**\n",
    "- doesn't make request to C* DB, which lessens the load and allows for other operations to run\n",
    "- Kaitai Struct format is almost self-documenting and easier to maintain (e.g. for DSE SSTable format)\n",
    "    - can also generate cool images by exporting to graphviz:\n",
    "    - ![](assets/data.png)\n",
    "    - ![](assets/statistics.png)\n",
    "    - ![](assets/index.png)\n",
    "    - ![](assets/summary.png)\n",
    "- works especially well with serverless since most of the files are all in one place\n",
    "- more flexible for future developments like parallelization with CUDA\n",
    "\n",
    "~~Cons~~"
   ],
   "cell_type": "markdown",
   "metadata": {}
  },
  {
   "cell_type": "code",
   "execution_count": null,
   "metadata": {},
   "outputs": [],
   "source": [
    "import socket\n",
    "\n",
    "import pyarrow as pa\n",
    "from blazingsql import BlazingContext\n",
    "import cudf\n",
    "\n",
    "import numpy as np # for visualization purposes\n",
    "\n",
    "HOST = '127.0.0.1'\n",
    "PORT = 9143"
   ]
  },
  {
   "cell_type": "code",
   "execution_count": null,
   "metadata": {},
   "outputs": [],
   "source": [
    "def read_bytes(sock, n):\n",
    "    data = b''\n",
    "    while len(data) < n:\n",
    "        more = sock.recv(n - len(data))\n",
    "        if not more:\n",
    "            raise EOFError(\"Socket connection ended before reading specified number of bytes\")\n",
    "        data += more\n",
    "    return data\n",
    "\n",
    "def read_u8(sock):\n",
    "    data = read_bytes(sock, 8)\n",
    "    return int.from_bytes(data, byteorder='big')\n",
    "\n",
    "# read data from socket\n",
    "def fetch_data():\n",
    "    with socket.socket(socket.AF_INET, socket.SOCK_STREAM) as sock:\n",
    "        sock.connect((HOST, PORT))\n",
    "        sock.sendall(b'hello world\\n')\n",
    "        num_tables = read_u8(sock)\n",
    "        table_buffers = []\n",
    "        for i in range(num_tables):\n",
    "            print('receiving table', i)\n",
    "            table_size = read_u8(sock)\n",
    "            buf = read_bytes(sock, table_size)\n",
    "            table_buffers.append(buf)\n",
    "    return table_buffers"
   ]
  },
  {
   "cell_type": "code",
   "execution_count": null,
   "metadata": {},
   "outputs": [],
   "source": [
    "buffers = fetch_data()\n",
    "tables = [pa.ipc.open_stream(buf).read_all() for buf in buffers]\n",
    "len(tables)"
   ]
  },
  {
   "cell_type": "code",
   "execution_count": null,
   "metadata": {},
   "outputs": [],
   "source": [
    "# turn the first arrow table into a cuDF\n",
    "gdf = cudf.DataFrame.from_arrow(table[0])\n",
    "gdf"
   ]
  },
  {
   "cell_type": "code",
   "execution_count": null,
   "metadata": {},
   "outputs": [],
   "source": [
    "bc = BlazingContext()\n",
    "bc.create_table(\"gpu_table\", gdf)\n",
    "bc.describe_table(\"gpu_table\")\n",
    "result = bc.sql(\"SELECT * FROM gpu_table\")\n",
    "result"
   ]
  }
 ]
}