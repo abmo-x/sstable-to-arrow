{
 "metadata": {
  "language_info": {
   "codemirror_mode": {
    "name": "ipython",
    "version": 3
   },
   "file_extension": ".py",
   "mimetype": "text/x-python",
   "name": "python",
   "nbconvert_exporter": "python",
   "pygments_lexer": "ipython3",
   "version": "3.9.4"
  },
  "orig_nbformat": 4,
  "kernelspec": {
   "name": "python3",
   "display_name": "Python 3.9.4 64-bit ('arrow_sstable': conda)"
  },
  "interpreter": {
   "hash": "11e14a7450b1aa7dac7c67def91465b11df4befdfc2edcec9501702ae1b0749a"
  }
 },
 "nbformat": 4,
 "nbformat_minor": 2,
 "cells": [
  {
   "cell_type": "markdown",
   "source": [
    "# 1. CQL to cuDF\n",
    "\n",
    "## (a) via `pandas`\n",
    "\n",
    "**Pros:**\n",
    "- already implemented, convenient\n",
    "\n",
    "**Cons:**\n",
    "- makes request to C* DB, taking computation power\n",
    "- \"unnecessary\" data transformations on client side"
   ],
   "metadata": {}
  },
  {
   "cell_type": "code",
   "execution_count": 1,
   "source": [
    "from cassandra.cluster import Cluster\n",
    "from cassandra.auth import PlainTextAuthProvider\n",
    "\n",
    "import pandas as pd\n",
    "import pyarrow as pa\n",
    "from blazingsql import BlazingContext\n",
    "import cudf\n",
    "\n",
    "import config"
   ],
   "outputs": [
    {
     "output_type": "error",
     "ename": "ModuleNotFoundError",
     "evalue": "No module named 'blazingsql'",
     "traceback": [
      "\u001b[0;31m---------------------------------------------------------------------------\u001b[0m",
      "\u001b[0;31mModuleNotFoundError\u001b[0m                       Traceback (most recent call last)",
      "\u001b[0;32m<ipython-input-1-56a3fd213ee6>\u001b[0m in \u001b[0;36m<module>\u001b[0;34m\u001b[0m\n\u001b[1;32m      4\u001b[0m \u001b[0;32mimport\u001b[0m \u001b[0mpandas\u001b[0m \u001b[0;32mas\u001b[0m \u001b[0mpd\u001b[0m\u001b[0;34m\u001b[0m\u001b[0;34m\u001b[0m\u001b[0m\n\u001b[1;32m      5\u001b[0m \u001b[0;32mimport\u001b[0m \u001b[0mpyarrow\u001b[0m \u001b[0;32mas\u001b[0m \u001b[0mpa\u001b[0m\u001b[0;34m\u001b[0m\u001b[0;34m\u001b[0m\u001b[0m\n\u001b[0;32m----> 6\u001b[0;31m \u001b[0;32mfrom\u001b[0m \u001b[0mblazingsql\u001b[0m \u001b[0;32mimport\u001b[0m \u001b[0mBlazingContext\u001b[0m\u001b[0;34m\u001b[0m\u001b[0;34m\u001b[0m\u001b[0m\n\u001b[0m\u001b[1;32m      7\u001b[0m \u001b[0;32mimport\u001b[0m \u001b[0mcudf\u001b[0m\u001b[0;34m\u001b[0m\u001b[0;34m\u001b[0m\u001b[0m\n\u001b[1;32m      8\u001b[0m \u001b[0;34m\u001b[0m\u001b[0m\n",
      "\u001b[0;31mModuleNotFoundError\u001b[0m: No module named 'blazingsql'"
     ]
    }
   ],
   "metadata": {}
  },
  {
   "cell_type": "code",
   "execution_count": null,
   "source": [
    "# connect to the Cassandra server in the cloud and configure the session settings\n",
    "cloud_config= {\n",
    "        'secure_connect_bundle': '/home/ubuntu/secure-connect-clitest.zip'\n",
    "}\n",
    "auth_provider = PlainTextAuthProvider(config.username, config.password)\n",
    "cluster = Cluster(cloud=cloud_config, auth_provider=auth_provider)\n",
    "session = cluster.connect('clitest')\n",
    "session.default_fetch_size = 1e7"
   ],
   "outputs": [],
   "metadata": {}
  },
  {
   "cell_type": "code",
   "execution_count": null,
   "source": [
    "def pandas_factory(colnames, rows):\n",
    "    \"\"\"Read the data returned by the driver into a pandas DataFrame\"\"\"\n",
    "    return pd.DataFrame(rows, columns=colnames)\n",
    "session.row_factory = pandas_factory\n",
    "\n",
    "# run the CQL query and get the data\n",
    "result_set = session.execute(\"select * from clitest.chipotle_stores limit 100;\")\n",
    "df = result_set._current_rows\n",
    "df"
   ],
   "outputs": [],
   "metadata": {}
  },
  {
   "cell_type": "code",
   "execution_count": null,
   "source": [
    "# create a new dataframe with the same data, but stored on the GPU\n",
    "gdf = cudf.DataFrame.from_pandas(df)\n",
    "gdf[\"latitude\"] = gdf[\"latitude\"].astype(\"double\")\n",
    "gdf[\"longitude\"] = gdf[\"longitude\"].astype(\"double\")\n",
    "gdf.head(5)"
   ],
   "outputs": [],
   "metadata": {}
  },
  {
   "cell_type": "code",
   "execution_count": null,
   "source": [
    "# BlazingSQL helps us speed up SQL queries using the GPU\n",
    "bc = BlazingContext(initial_pool_size=1.0486e+10)\n",
    "bc.create_table(\"cql_table\", gdf)\n",
    "bc.describe_table(\"cql_table\")\n",
    "result = bc.sql(\"select * from cql_table\")\n",
    "result"
   ],
   "outputs": [],
   "metadata": {}
  },
  {
   "cell_type": "markdown",
   "source": [
    "## (b) via `pyarrow`\n",
    "\n",
    "This approach is almost identical, but transforms the data from the driver\n",
    "into a pyarrow Table (which lives on the GPU and can be easily transformed\n",
    "into a cuDF DataFrame) rather than a pandas DataFrame.\n",
    "\n",
    "**Pros:**\n",
    "- cleans up some transformations on client side\n",
    "\n",
    "**Cons:**\n",
    "- still makes request to Cassandra server, taking computation power\n",
    "\n",
    "In the following block of code, we replace the `pandas_factory` fn from the previous example, which returns a pandas DataFrame, with `row_factory`, which returns a pyarrow Table."
   ],
   "metadata": {}
  },
  {
   "cell_type": "code",
   "execution_count": null,
   "source": [
    "def getcol(col):\n",
    "    rtn = pa.array(col)\n",
    "    # This is a sample type conversion. For a full implementation,\n",
    "    # you'd need to fully check which arrow types need to be manually casted for compatibility with cuDF\n",
    "    if pa.types.is_decimal(rtn.type):\n",
    "        return rtn.cast('float32')\n",
    "    return rtn\n",
    "\n",
    "def row_factory(colnames, rows):\n",
    "    # is there a faster way to do this zip operation?\n",
    "    # essentially we just need to convert from the row format passed by\n",
    "    # CQL into the column format of arrow\n",
    "    cols = [getcol(col) for col in zip(*rows)]\n",
    "    table = pa.table({ colnames[i]: cols[i] for i in range(len(colnames)) })\n",
    "    return table\n",
    "\n",
    "session.row_factory = row_factory\n",
    "result_set = session.execute(\"SELECT * FROM clitest.chipotle_stores LIMIT 100;\")\n",
    "df = result_set.current_rows\n",
    "print(df)\n",
    "gdf = cudf.DataFrame.from_arrow(df)\n",
    "\n",
    "# then go up and run the above cells using gdf"
   ],
   "outputs": [],
   "metadata": {}
  },
  {
   "cell_type": "code",
   "execution_count": 2,
   "source": [
    "from cassandra.cluster import Cluster"
   ],
   "outputs": [],
   "metadata": {}
  },
  {
   "cell_type": "code",
   "execution_count": 3,
   "source": [
    "cluster = Cluster()"
   ],
   "outputs": [],
   "metadata": {}
  },
  {
   "cell_type": "code",
   "execution_count": 4,
   "source": [
    "session = cluster.connect('baselines')"
   ],
   "outputs": [],
   "metadata": {}
  },
  {
   "cell_type": "code",
   "execution_count": 5,
   "source": [
    "rows = session.execute('SELECT * FROM iot')"
   ],
   "outputs": [],
   "metadata": {}
  },
  {
   "cell_type": "code",
   "execution_count": 7,
   "source": [
    "for row in rows:\n",
    "    print(row)"
   ],
   "outputs": [
    {
     "output_type": "stream",
     "name": "stdout",
     "text": [
      "cilisis neque, eget gravida erat dapibus nec. Suspendisse id pulvinar neque, dictum rhoncus velit. Aliquam erat volutpat. Nulla et ex', sensor_value=97.70635717926946, station_id=UUID('249d236b-e9a5-4070-9afa-8fae9060d959'))\n",
      "Row(machine_id=UUID('787ccf18-2669-45dd-9fcc-c6f8e713b701'), sensor_name='population', time=datetime.datetime(1970, 1, 1, 0, 0, 4, 545000), data=' sem vel orci venenatis, a rutrum odio viverra. Nam vulputate nulla dui, tincidunt hendrerit augue euismod ut. Ut cursus aliquam diam, placerat molestie urna luctus vel. Donec at nisi nec velit lacinia dapibus vitae ac lorem. Nulla pretium eu lorem eget pretium. Donec vel malesuada dolor. Proin suscipit iaculis magna, eget vestibulum justo interdum sit amet. Donec hendrerit orci nec ex accumsan facilisis. Vivamus placerat elit nec sem fermentum dictum. Aenean vitae pellentesque tortor, in auctor risus. Aliquam at dui turpis. Vestibulum interdum bibendum fermentum. Etiam ac placerat dui.\\nNam sodales egestas lectus suscipit laoreet. Mauris iaculis tincidunt congue. Class aptent taciti sociosqu ad litora torquent per conubia nostra, per inceptos himenaeos. Cras non eleifend massa. Suspendisse ullamcorper, sapien id suscipit efficitur, justo justo pulvinar enim, at venenatis t', sensor_value=99.81197360357258, station_id=UUID('08644893-8c50-41dd-96b1-8bbf67000847'))\n",
      "Row(machine_id=UUID('787ccf18-2669-45dd-9fcc-c6f8e713b701'), sensor_name='population', time=datetime.datetime(1970, 1, 1, 0, 0, 1, 645000), data=' dapibus arcu. Sed ac fringilla dui.\\nMorbi ac rhoncus mi, vel tempus eros. Suspendisse nulla tortor, tincidunt egestas mattis eget, euismod quis nunc. Sed consectetur lacus at consequat lobortis. Mauris est mauris, sagittis at nunc quis, gravida congue mauris. Cras sed elementum felis. Maecenas rhoncus neque ut dui tristique, ac feugiat neque pulvinar. Cras viverra arcu nulla. Fusce a nibh hendrerit, dictum augue nec, porttitor risus. Nunc ut elit a eros posuere pulvinar. Vivamus nec augue diam. Ut tristique ex vitae turpis consectetur vulputate. Vestibulum at imperdiet metus, et molestie odio. Nam aliquam lectus at faucibus pulvinar. Donec efficitur arcu sit amet pretium mattis. Quisque quis quam pretium ex iaculis elementum. Nunc aliquam blandit velit, nec eleifend eros porta at.\\nAenean ac lorem arcu. Pellentesque porta molestie venenatis. Curabitur dapibus tempus bibendum. Mauris viverra sollicitudin posuere. Integer varius suscipit leo, at pretium est euismod in. Ut nec leo erat. Sed rhoncus dictum enim eget auctor. Nunc hendrerit ex eget turpis congue luctus. Mauri', sensor_value=97.87374163332493, station_id=UUID('58a75ad3-4614-41ae-b82f-f2d554af2748'))\n",
      "Row(machine_id=UUID('1cb150c2-cda8-43bb-9453-b6fcf489d62b'), sensor_name='median', time=datetime.datetime(1970, 1, 1, 0, 0, 3, 416000), data='sce rhoncus turpis id nisi facilisis, eget dictum tellus dignissim.\\nVivamus sollicitudin luctus felis, et tincidunt nisi rutrum at. Maecenas non est elit. Phasellus placerat ultrices vehicula. Ut vulputate vestibulum lectus, a efficitur arcu blandit non. Curabitur tristique sagittis mi, sed semper tellus sollicitudin et. Ut at eros sed enim facilisis ornare vitae rhoncus ligula. Vivamus vulputate ligula eget varius condimentum. Phasellus eu magna euismod, mattis tellus convallis, porta nunc. Donec aliquet pharetra mi ac ultrices. Nunc in semper libero. Vestibulum tempor porta risus id accumsan.\\nSed libero erat, rutrum non cursus et, molestie eget mi. Nulla ut viverra nisl. Donec venenatis non turpis a condimentum. Vestibulum non nibh nunc. Donec tempus massa velit, vel sagittis orci interdum vel. Sed non lobortis enim. Sed laoreet ex at dolor pellentesque, eget cursus libero pretium. Cras ullamcorper, purus ut suscipit suscipit, quam felis sollicitudin mi, eget accumsan orci ex quis ex. Nam tincidunt, magna ac tempus molestie, lorem nisi aliquam magna, et pulvinar tortor orci vitae enim. Nam nec nisl lorem. Vestibulum id dui a', sensor_value=102.91154931293173, station_id=UUID('1c5040c1-4aa2-42f8-ad7f-ee86fe02de46'))\n",
      "Row(machine_id=UUID('2ba7a77f-3b89-4267-b064-2be85ccf792d'), sensor_name='heat_capacity', time=datetime.datetime(1970, 1, 1, 0, 0, 3, 669000), data=' metus molestie mollis et sodales elit.\\nSed maximus, justo dapibus malesuada finibus, mi nibh sagittis augue, vel accumsan massa diam fermentum odio. Praesent fringilla porta dui eget finibus. Ut pretium lacus quis ullamcorper sagittis. Nulla facilisi. Curabitur imperdiet nisl eget ipsum porta pulvinar. Morbi nunc urna, condimentum eu elementum a, pharetra placerat nibh. Vivamus eu quam id mi gravida porta non eget nulla. Morbi iaculis sapien lacus, sed consectetur elit viverra a. Etiam condimentum vel justo sed aliquam. Pellentesque habitant morbi tristique senectus et netus et malesuada fames ac turpis egestas. Nulla volutpat blandit ipsum sit amet consequat.\\nNunc non lacus non nunc semper suscipit sed sit amet ipsum. Ut velit mauris, convallis eu leo id, pharetra hendrerit turpis. Nullam a arcu iaculis, porta neque a, congue mi. Vivamus et mattis risus. Morbi sed sagittis ipsum. Interdum et malesuada fames ac ante ipsum primis in faucibus. Nulla interdum at nisi sit amet rhoncus. Curabitur in congue diam. Ut facilisis quis velit non porta. Ut ligula tellus, tempor in mi vitae, imperdiet facilisis risus. Vestibulum augue l', sensor_value=102.70788762995998, station_id=UUID('57b753ff-59da-49b9-9678-5c2edbd16d20'))\n",
      "Row(machine_id=UUID('4decd930-3744-4814-9c7a-5a7a10249cff'), sensor_name='temperature', time=datetime.datetime(1970, 1, 1, 0, 0, 0, 372000), data='ehicula eleifend ullamcorper. Aliquam vitae justo venenatis quam porttitor ornare. Proin lacus turpis, vestibulum non urna ac, sodales porta felis. Integer non ipsum rutrum arcu mollis semper eu id ligula.\\nProin quis viverra lectus. Morbi sem diam, pretium eget elit vitae, ultricies mollis magna. Cras facilisis sem quam. Aliquam fermentum, est molestie mattis feugiat, sem diam aliquet sem, suscipit volutpat quam ligula non mi. Vestibulum eu rhoncus ligula, efficitur interdum metus. Suspendisse nec justo molestie, aliquam augue sed, tincidunt risus. Quisque consequat ac enim a interdum. Vestibulum sit amet nisi ac ligula volutpat sodales. Fusce dictum, magna sit amet ultrices congue, eros arcu facilisis magna, sit amet viverra neque lorem eget orci.\\nFusce suscipit lorem sapien, eget tempor eros hendrerit et. Etiam imperdiet et libero at luctus. Pellentesque habitant morbi tristique senectus et netus et malesuada fames ac turpis egestas. Mauris placerat eleife', sensor_value=100.86674007640013, station_id=UUID('6fb20dd4-7d65-4943-9967-459343efafdd'))\n",
      "Row(machine_id=UUID('7011afbb-c711-40c0-99da-68de01268275'), sensor_name='inertia', time=datetime.datetime(1970, 1, 1, 0, 0, 4, 963000), data='usce dictum, magna sit amet ultrices congue, eros arcu facilisis magna, sit amet viverra neque lorem eget orci.\\nFusce suscipit lorem sapien, eget tempor eros hendrerit et. Etiam imperdiet et libero at luctus. Pellentesque habitant morbi tristique senectus et netus et malesuada fames ac turpis egestas. Mauris placerat eleifend varius. In mollis justo in semper congue. Pellentesque nisi eros, eleifend quis sodales vitae, volutpat a quam. Sed nisl enim, condimentum ut elit sit amet, lobortis sagittis elit. In a dui sit amet neque tristique aliquam at non justo. Donec sagittis erat nisi, in consectetur turpis sodales ac. Donec ante lacus, tempus a lobortis eu, aliquam finibus diam. Nam ut lorem non mauris semper suscipit. Aliquam hendrerit, tellus sit amet luctus tempor, ante libero facilisis dolor, a aliquet velit orci suscipit magna. Curabitur id luctus nisi, ut luctus felis.\\nAliquam id mi eu quam placerat ornare quis ut nulla. Duis semper eleifend nibh nec tempor. Phasellus variu', sensor_value=101.6395576618868, station_id=UUID('4f638afe-bdb0-486d-82bc-1d902f2e3791'))\n",
      "Row(machine_id=UUID('5602db66-4031-4d74-af90-93507cf37cbf'), sensor_name='value', time=datetime.datetime(1970, 1, 1, 0, 0, 4, 606000), data=' neque vitae, euismod cursus elit. Aliquam velit justo, bibendum et ullamcorper vitae, lacinia vel eros. Nullam tortor arcu, blandit ac consequat nec, fermentum vitae urna. Maecenas volutpat ex eget dignissim fermentum. Cras fringilla erat eget odio viverra, sed convallis est interdum. Sed ante felis, condimentum non venenatis at, consequat nec urna. Proin turpis massa, iaculis eu blandit in, mollis a neque.\\nMauris posuere tempus velit, sed blandit velit porttitor et. Donec semper sed ipsum eget elementum. Maecenas non blandit tortor, sed volutpat sapien. Nulla vitae metus eu felis ultrices scelerisque. Phasellus nec ante porttitor, ultrices justo eu, ornare leo. Quisque gravida euismod orci vulputate posuere. Quisque dictum consectetur erat quis sagittis. Donec volutpat arcu at aliquam rhoncus. Sed vestibulum nulla ac neque rho', sensor_value=95.37704408571274, station_id=UUID('56b18bbf-6700-4847-bd84-d9257a79241b'))\n",
      "Row(machine_id=UUID('5602db66-4031-4d74-af90-93507cf37cbf'), sensor_name='value', time=datetime.datetime(1970, 1, 1, 0, 0, 0, 506000), data='ncidunt. Maecenas quis velit urna. Phasellus auctor magna in quam interdum, sed elementum mauris condimentum. Vestibulum ante ipsum primis in faucibus orci luctus et ultrices posuere cubilia Curae; Vestibulum et facilisis dui. Maecenas imperdiet eu ipsum ut vehicula. Etiam euismod, mi et suscipit rhoncus, est diam maximus dolor, et pretium est nibh id erat. Suspendisse iaculis porttitor mi a facilisis.\\nPellentesque quis neque imperdiet, semper tellus eu, accumsan purus. Vivamus consectetur feugiat enim et dignissim. Integer tincidunt eget ipsum congue scelerisque. Nunc iaculis leo ac egestas congue. Praesent ut laoreet nunc. Nullam sit amet magna finibus, commodo diam imperdiet, venenatis enim. Donec tellus ligula, lobortis a nisl nec, faucibus convallis ipsum. Ut non ante in purus luctus faucibus. Nulla ac eleifend leo. Vivamus suscipit, tortor sed ornare tincidunt, tellus magna imperdiet erat, ut consequat ', sensor_value=98.0686700063803, station_id=UUID('3df498b1-9568-4584-96fd-76f6081da01a'))\n",
      "Row(machine_id=UUID('38549376-8c2c-4782-8b37-d32d387e994f'), sensor_name='turbidity', time=datetime.datetime(1970, 1, 1, 0, 0, 4, 824000), data='dit eros in purus cursus semper. Etiam lacinia velit ante, id pharetra sapien pellentesque sit amet. Duis eleifend imperdiet sem imperdiet dignissim. Quisque dui leo, gravida a ex ut, imperdiet fermentum nulla. Proin molestie arcu nisl, eget hendrerit est dictum sed.\\nInteger non lectus ex. Maecenas id dui sit amet velit facilisis lobortis vel nec purus. Maecenas malesuada fermentum magna, in commodo lacus aliquam id. Nulla mi leo, interdum vel volutpat commodo, suscipit quis odio. Mauris pulvinar purus nisi, non maximus massa commodo dignissim. Suspendisse gravida facilisis est, sit amet ornare ligula luctus vel. Praesent dignissim tincidunt accumsan. Nullam placerat sapien id ex vehicula imperdiet. Pellentesque venenatis congue justo non porta. Sed ac lectus nulla. Vestibulum ante ipsum primis in faucibus orci luctus et ultrices posuere cubilia Curae; Nam fringilla felis scelerisque, venenatis lorem in, egestas tellus. Maecenas volutpat malesuada ante id dictum. Cras a', sensor_value=92.26341954123266, station_id=UUID('3aed524d-84db-4c6e-8f63-8afebdb0f86d'))\n",
      "Row(machine_id=UUID('144fe957-bcf0-42cd-a2de-4d6b63ddde59'), sensor_name='acidity', time=datetime.datetime(1970, 1, 1, 0, 0, 4, 497000), data='la. Maecenas fringilla urna vel eros maximus, sed placerat neque aliquam. Curabitur sed ultrices nisi. Cras posuere purus vitae vehicula porttitor. Cum sociis natoque penatibus et magnis dis parturient montes, nascetur ridiculus mus. Nam vitae imperdiet metus, quis iaculis purus. Cras venenatis, arcu ac porta eleifend, ligula ex venenatis sapien, eget aliquet odio turpis ut massa. Aenean orci nunc, tempor id finibus at, elementum ut sem. Donec porta elit a augue pellentesque, id laoreet sem accumsan. Cras id metus in sem cursus posuere iaculis in mi. Suspendisse in purus vel nulla pretium suscipit.\\nDonec scelerisque ultricies euismod. Suspendisse tristique turpis magna, in molestie lacus efficitur non. Integer a neque tellus. Donec odio neque, congue et elementum et, faucibus at diam. Maecenas ac lectus fermentum, consectetur turpis quis, placerat orci. Nullam ipsum felis, lobortis quis viverra vel, dapibus ', sensor_value=100.74988147842932, station_id=UUID('38fd1451-ca92-4261-8864-48938c5091dd'))\n",
      "Row(machine_id=UUID('144fe957-bcf0-42cd-a2de-4d6b63ddde59'), sensor_name='acidity', time=datetime.datetime(1970, 1, 1, 0, 0, 4, 397000), data='t enim viverra in. Duis consequat ultricies tortor, vel malesuada lorem mollis placerat.\\nDuis sit amet ultricies purus. Donec ac magna semper, aliquet justo in, tincidunt odio. Morbi ultricies tincidunt lectus at dignissim. Quisque auctor suscipit quam ut placerat. Fusce nunc ipsum, pharetra et lacus sit amet, commodo euismod ante. Aliquam tincidunt ex sed urna malesuada efficitur. Sed sed ante auctor, laoreet tellus facilisis, ultrices ex. Curabitur bibendum elit id pulvinar accumsan. Integer vitae pellentesque nisl. Vivamus commodo nisi eget odio lacinia placerat. Donec placerat mattis massa, tincidunt blandit justo gravida ut. Proin eu enim in sem porttitor bibendum. Vivamus porta mattis molestie. Cras et sem ex. Praesent laoreet erat sit amet felis accumsan pellentesque. Praesent maximus neque tortor.\\nNunc porttitor tortor felis, eu ornare est molestie id. Nulla sapien ex, interdum et posuere vitae, congue at purus. Fusce rutrum turpis ut felis accumsan egestas. Interdum et malesuada fames a', sensor_value=95.09280216583399, station_id=UUID('0e5b6c3f-a1b4-43c9-b8fd-1451ca923261'))\n",
      "Row(machine_id=UUID('144fe957-bcf0-42cd-a2de-4d6b63ddde59'), sensor_name='acidity', time=datetime.datetime(1970, 1, 1, 0, 0, 2, 797000), data=' gravida. Phasellus vulputate metus quis arcu convallis ullamcorper. Donec mauris ante, lobortis eget venenatis eu, tristique non nunc. Interdum et malesuada fames ac ante ipsum primis in faucibus. Nulla facilisi. Cum sociis natoque penatibus et magnis dis parturient montes, nascetur ridiculus mus. Vestibulum ante ipsum primis in faucibus orci luctus et ultrices posuere cubilia Curae; Nam tristique pretium massa eu malesuada. Morbi eu quam ac velit fermentum finibus nec in lorem. Duis euismod purus vitae tortor iaculis, vitae fermentum lectus porttitor. Vestibulum consectetur tortor ac leo tristique, et interdum ipsum tempor. Nullam efficitur mollis felis, at dignissim nisi gravida vitae. Proin in tincidunt orci.\\nSed sit amet faucibus nisl. Mauris velit tortor, bibendum ac ex eu, posuere facilisis dui. Suspendisse arcu mauris, pharetra at facilisis sed, maximus nec elit. Duis p', sensor_value=102.56516640561809, station_id=UUID('23d9098a-dd07-4813-a66b-aff4adaa0c12'))\n",
      "Row(machine_id=UUID('4e4896a1-b987-4601-b8a9-de2dc72a0a87'), sensor_name='stall_speed', time=datetime.datetime(1970, 1, 1, 0, 0, 1, 46000), data='iquam orci. Etiam non ante laoreet, commodo mauris a, ultricies eros. Nullam lobortis lorem in ligula finibus, in porta turpis mattis. Curabitur ornare nec dolor vitae gravida. Suspendisse mollis dui urna, vitae ultrices nibh dapibus vitae. Maecenas nibh felis, fermentum a ipsum fringilla, molestie vestibulum ipsum. Morbi facilisis ex elementum tortor convallis, at scelerisque ex accumsan. Nam condimentum justo bibendum, pharetra erat tempor, pulvinar lectus. Etiam eu vulputate lorem. Aenean cursus commodo congue. Integer et justo nisi.\\nPraesent placerat eros id tempor feugiat. Morbi sem nunc, vestibulum a facilisis nec, fringilla vel leo. Integer neque nisi, scelerisque id magna vel, bibendum dapibus nulla. Vestibulum ante ipsum primis in faucibus orci luctus et ultrices posuere cubilia Curae; Pellentesque habitant morbi tristique senectus et netus et malesuada fames ac turpis egestas. In cursus interdum sem, ac aliquam erat elementum et. Mauris elementum euismod sodal', sensor_value=102.56556409968485, station_id=UUID('1afa8fae-9060-4959-ab27-4065a119a463'))\n",
      "Row(machine_id=UUID('212897d7-bd38-4f38-b47b-7efc335d2bae'), sensor_name='periodicity', time=datetime.datetime(1970, 1, 1, 0, 0, 1, 817000), data='umsan justo, nec feugiat augue. Nullam porta, quam et volutpat lacinia, mauris erat convallis nibh, sit amet volutpat lectus ligula eget sapien. In hac habitasse platea dictumst. Pellentesque egestas dui quis arcu finibus aliquam. Fusce placerat arcu quis sem suscipit congue. Sed a quam eget velit aliquet rutrum eu aliquam dui.\\nAenean ac nisl non justo rutrum vestibulum vitae et eros. Nulla facilisi. Sed nibh turpis, consectetur in pretium aliquet, imperdiet id lorem. Ut blandit, nunc sed venenatis mattis, nisl velit lobortis neque, sit amet dapibus purus nisl eget dolor. Cum sociis natoque penatibus et magnis dis parturient montes, nascetur ridiculus mus. Aenean neque magna, bibendum ut augue a, tincidunt tristique enim. In auctor odio eu lobortis suscipit. Duis et leo egestas, dapibus enim in, fringilla ex. Nam ornare magna velit, ac pellentesque ex tincidunt quis. Aenean vitae diam sit amet ligula viverra ultrices. Aliqu', sensor_value=103.61351181343043, station_id=UUID('6977c54e-7944-4960-ba89-996624e9ff8b'))\n",
      "Row(machine_id=UUID('212897d7-bd38-4f38-b47b-7efc335d2bae'), sensor_name='periodicity', time=datetime.datetime(1970, 1, 1, 0, 0, 0, 317000), data='re cubilia Curae; Nam semper nec nisl at hendrerit. Cras rhoncus fringilla risus nec elementum.\\nNullam a augue dui. Cras arcu est, elementum ac gravida at, vestibulum et augue. Morbi blandit feugiat nisi, sed volutpat est sollicitudin vel. Vestibulum congue malesuada est, in porttitor tellus tempus vitae. Fusce sem lacus, finibus a diam nec, posuere posuere dolor. Morbi mauris augue, convallis ac aliquet eu, gravida nec velit. Etiam aliquet dolor magna, sed mollis velit fermentum non. Sed nec sagittis ante. Etiam finibus ante et nisl tempus faucibus.\\nAliquam erat volutpat. Pellentesque sit amet mattis sapien. Pellentesque tempor et magna ut porttitor. Aenean rhoncus eu enim vitae fermentum. Nam laoreet turpis eget dolor iaculis, vitae consequat tellus condimentum. Vivamus id erat lacus. Aliquam sagittis accumsan ipsum, eu consectetur libero commodo nec. Donec vel nisi id neque dapibus rutrum vel et diam. Morbi quis aliquam sapien. Aliquam urna dui, gravida vitae felis sit amet, maximus ullamcorper arcu. Vestibulum sit amet ligula dui. Donec lacinia m', sensor_value=96.17746512426919, station_id=UUID('6fb20dd4-7d65-4943-9967-459343efafdd'))\n",
      "Row(machine_id=UUID('7d2af8a9-0f92-4cdd-8640-0751ac9fbc20'), sensor_name='mode', time=datetime.datetime(1970, 1, 1, 0, 0, 2, 808000), data='Nullam sit amet magna finibus, commodo diam imperdiet, venenatis enim. Donec tellus ligula, lobortis a nisl nec, faucibus convallis ipsum. Ut non ante in purus luctus faucibus. Nulla ac eleifend leo. Vivamus suscipit, tortor sed ornare tincidunt, tellus magna imperdiet erat, ut consequat sem odio in justo. Nunc eu tempor nunc. Sed sed turpis non nisi tempus pretium. Proin consequat tellus ex, eget luctus justo iaculis vitae. Pellentesque habitant morbi tristique senectus et netus et malesuada fames ac turpis egestas. Aliquam dolor lacus, tincidunt ut commodo quis, cursus quis odio. Etiam pulvinar non dolor nec feugiat.\\nPellentesque aliquet erat ac ultrices condimentum. Sed efficitur leo at nisl volutpat imperdiet. Fusce ipsum elit, faucibus at ultrices at, porta eget nibh. Donec sagittis posuere volutpat. Duis bibendum sit amet sapien eu posuere. Lorem ipsum dolor sit amet, consectetur adipiscing elit. Nulla et gravida leo. Etiam consectetur, odio id pharetra porta, augue eros ultrices nisi, nec iaculis sapien diam et erat. Donec ut tortor a nisl mollis vehicula. Curabitur molestie lobortis arcu, vitae finibus ipsum lacinia ac. Aenean a ipsum in turpis porttitor tincidun', sensor_value=90.42874761258103, station_id=UUID('266baff4-adaa-4c12-bc49-4249290562bb'))\n"
     ]
    },
    {
     "output_type": "error",
     "ename": "KeyboardInterrupt",
     "evalue": "",
     "traceback": [
      "\u001b[0;31m---------------------------------------------------------------------------\u001b[0m",
      "\u001b[0;31mKeyboardInterrupt\u001b[0m                         Traceback (most recent call last)",
      "\u001b[0;32m<ipython-input-7-5b84bc125874>\u001b[0m in \u001b[0;36m<module>\u001b[0;34m\u001b[0m\n\u001b[1;32m      1\u001b[0m \u001b[0;32mfor\u001b[0m \u001b[0mrow\u001b[0m \u001b[0;32min\u001b[0m \u001b[0mrows\u001b[0m\u001b[0;34m:\u001b[0m\u001b[0;34m\u001b[0m\u001b[0;34m\u001b[0m\u001b[0m\n\u001b[0;32m----> 2\u001b[0;31m     \u001b[0mprint\u001b[0m\u001b[0;34m(\u001b[0m\u001b[0mrow\u001b[0m\u001b[0;34m)\u001b[0m\u001b[0;34m\u001b[0m\u001b[0;34m\u001b[0m\u001b[0m\n\u001b[0m",
      "\u001b[0;32m/usr/local/anaconda3/envs/arrow_sstable/lib/python3.9/site-packages/ipykernel/iostream.py\u001b[0m in \u001b[0;36mwrite\u001b[0;34m(self, string)\u001b[0m\n\u001b[1;32m    402\u001b[0m             \u001b[0mis_child\u001b[0m \u001b[0;34m=\u001b[0m \u001b[0;34m(\u001b[0m\u001b[0;32mnot\u001b[0m \u001b[0mself\u001b[0m\u001b[0;34m.\u001b[0m\u001b[0m_is_master_process\u001b[0m\u001b[0;34m(\u001b[0m\u001b[0;34m)\u001b[0m\u001b[0;34m)\u001b[0m\u001b[0;34m\u001b[0m\u001b[0;34m\u001b[0m\u001b[0m\n\u001b[1;32m    403\u001b[0m             \u001b[0;31m# only touch the buffer in the IO thread to avoid races\u001b[0m\u001b[0;34m\u001b[0m\u001b[0;34m\u001b[0m\u001b[0;34m\u001b[0m\u001b[0m\n\u001b[0;32m--> 404\u001b[0;31m             \u001b[0mself\u001b[0m\u001b[0;34m.\u001b[0m\u001b[0mpub_thread\u001b[0m\u001b[0;34m.\u001b[0m\u001b[0mschedule\u001b[0m\u001b[0;34m(\u001b[0m\u001b[0;32mlambda\u001b[0m \u001b[0;34m:\u001b[0m \u001b[0mself\u001b[0m\u001b[0;34m.\u001b[0m\u001b[0m_buffer\u001b[0m\u001b[0;34m.\u001b[0m\u001b[0mwrite\u001b[0m\u001b[0;34m(\u001b[0m\u001b[0mstring\u001b[0m\u001b[0;34m)\u001b[0m\u001b[0;34m)\u001b[0m\u001b[0;34m\u001b[0m\u001b[0;34m\u001b[0m\u001b[0m\n\u001b[0m\u001b[1;32m    405\u001b[0m             \u001b[0;32mif\u001b[0m \u001b[0mis_child\u001b[0m\u001b[0;34m:\u001b[0m\u001b[0;34m\u001b[0m\u001b[0;34m\u001b[0m\u001b[0m\n\u001b[1;32m    406\u001b[0m                 \u001b[0;31m# mp.Pool cannot be trusted to flush promptly (or ever),\u001b[0m\u001b[0;34m\u001b[0m\u001b[0;34m\u001b[0m\u001b[0;34m\u001b[0m\u001b[0m\n",
      "\u001b[0;32m/usr/local/anaconda3/envs/arrow_sstable/lib/python3.9/site-packages/ipykernel/iostream.py\u001b[0m in \u001b[0;36mschedule\u001b[0;34m(self, f)\u001b[0m\n\u001b[1;32m    203\u001b[0m             \u001b[0mself\u001b[0m\u001b[0;34m.\u001b[0m\u001b[0m_events\u001b[0m\u001b[0;34m.\u001b[0m\u001b[0mappend\u001b[0m\u001b[0;34m(\u001b[0m\u001b[0mf\u001b[0m\u001b[0;34m)\u001b[0m\u001b[0;34m\u001b[0m\u001b[0;34m\u001b[0m\u001b[0m\n\u001b[1;32m    204\u001b[0m             \u001b[0;31m# wake event thread (message content is ignored)\u001b[0m\u001b[0;34m\u001b[0m\u001b[0;34m\u001b[0m\u001b[0;34m\u001b[0m\u001b[0m\n\u001b[0;32m--> 205\u001b[0;31m             \u001b[0mself\u001b[0m\u001b[0;34m.\u001b[0m\u001b[0m_event_pipe\u001b[0m\u001b[0;34m.\u001b[0m\u001b[0msend\u001b[0m\u001b[0;34m(\u001b[0m\u001b[0;34mb''\u001b[0m\u001b[0;34m)\u001b[0m\u001b[0;34m\u001b[0m\u001b[0;34m\u001b[0m\u001b[0m\n\u001b[0m\u001b[1;32m    206\u001b[0m         \u001b[0;32melse\u001b[0m\u001b[0;34m:\u001b[0m\u001b[0;34m\u001b[0m\u001b[0;34m\u001b[0m\u001b[0m\n\u001b[1;32m    207\u001b[0m             \u001b[0mf\u001b[0m\u001b[0;34m(\u001b[0m\u001b[0;34m)\u001b[0m\u001b[0;34m\u001b[0m\u001b[0;34m\u001b[0m\u001b[0m\n",
      "\u001b[0;32m/usr/local/anaconda3/envs/arrow_sstable/lib/python3.9/site-packages/zmq/sugar/socket.py\u001b[0m in \u001b[0;36msend\u001b[0;34m(self, data, flags, copy, track, routing_id, group)\u001b[0m\n\u001b[1;32m    489\u001b[0m                                  copy_threshold=self.copy_threshold)\n\u001b[1;32m    490\u001b[0m             \u001b[0mdata\u001b[0m\u001b[0;34m.\u001b[0m\u001b[0mgroup\u001b[0m \u001b[0;34m=\u001b[0m \u001b[0mgroup\u001b[0m\u001b[0;34m\u001b[0m\u001b[0;34m\u001b[0m\u001b[0m\n\u001b[0;32m--> 491\u001b[0;31m         \u001b[0;32mreturn\u001b[0m \u001b[0msuper\u001b[0m\u001b[0;34m(\u001b[0m\u001b[0mSocket\u001b[0m\u001b[0;34m,\u001b[0m \u001b[0mself\u001b[0m\u001b[0;34m)\u001b[0m\u001b[0;34m.\u001b[0m\u001b[0msend\u001b[0m\u001b[0;34m(\u001b[0m\u001b[0mdata\u001b[0m\u001b[0;34m,\u001b[0m \u001b[0mflags\u001b[0m\u001b[0;34m=\u001b[0m\u001b[0mflags\u001b[0m\u001b[0;34m,\u001b[0m \u001b[0mcopy\u001b[0m\u001b[0;34m=\u001b[0m\u001b[0mcopy\u001b[0m\u001b[0;34m,\u001b[0m \u001b[0mtrack\u001b[0m\u001b[0;34m=\u001b[0m\u001b[0mtrack\u001b[0m\u001b[0;34m)\u001b[0m\u001b[0;34m\u001b[0m\u001b[0;34m\u001b[0m\u001b[0m\n\u001b[0m\u001b[1;32m    492\u001b[0m \u001b[0;34m\u001b[0m\u001b[0m\n\u001b[1;32m    493\u001b[0m     \u001b[0;32mdef\u001b[0m \u001b[0msend_multipart\u001b[0m\u001b[0;34m(\u001b[0m\u001b[0mself\u001b[0m\u001b[0;34m,\u001b[0m \u001b[0mmsg_parts\u001b[0m\u001b[0;34m,\u001b[0m \u001b[0mflags\u001b[0m\u001b[0;34m=\u001b[0m\u001b[0;36m0\u001b[0m\u001b[0;34m,\u001b[0m \u001b[0mcopy\u001b[0m\u001b[0;34m=\u001b[0m\u001b[0;32mTrue\u001b[0m\u001b[0;34m,\u001b[0m \u001b[0mtrack\u001b[0m\u001b[0;34m=\u001b[0m\u001b[0;32mFalse\u001b[0m\u001b[0;34m,\u001b[0m \u001b[0;34m**\u001b[0m\u001b[0mkwargs\u001b[0m\u001b[0;34m)\u001b[0m\u001b[0;34m:\u001b[0m\u001b[0;34m\u001b[0m\u001b[0;34m\u001b[0m\u001b[0m\n",
      "\u001b[0;32mzmq/backend/cython/socket.pyx\u001b[0m in \u001b[0;36mzmq.backend.cython.socket.Socket.send\u001b[0;34m()\u001b[0m\n",
      "\u001b[0;32mzmq/backend/cython/socket.pyx\u001b[0m in \u001b[0;36mzmq.backend.cython.socket.Socket.send\u001b[0;34m()\u001b[0m\n",
      "\u001b[0;32mzmq/backend/cython/socket.pyx\u001b[0m in \u001b[0;36mzmq.backend.cython.socket._send_copy\u001b[0;34m()\u001b[0m\n",
      "\u001b[0;32m/usr/local/anaconda3/envs/arrow_sstable/lib/python3.9/site-packages/zmq/backend/cython/checkrc.pxd\u001b[0m in \u001b[0;36mzmq.backend.cython.checkrc._check_rc\u001b[0;34m()\u001b[0m\n",
      "\u001b[0;31mKeyboardInterrupt\u001b[0m: "
     ]
    }
   ],
   "metadata": {
    "tags": [
     "outputPrepend"
    ]
   }
  },
  {
   "cell_type": "code",
   "execution_count": null,
   "source": [],
   "outputs": [],
   "metadata": {}
  }
 ]
}